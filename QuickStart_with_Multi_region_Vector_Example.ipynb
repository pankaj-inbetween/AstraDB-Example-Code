{
  "cells": [
    {
      "cell_type": "markdown",
      "metadata": {
        "id": "view-in-github",
        "colab_type": "text"
      },
      "source": [
        "<a href=\"https://colab.research.google.com/github/pankaj-inbetween/AstraDB-Example-Code/blob/main/QuickStart_with_Multi_region_Vector_Example.ipynb\" target=\"_parent\"><img src=\"https://colab.research.google.com/assets/colab-badge.svg\" alt=\"Open In Colab\"/></a>"
      ]
    },
    {
      "cell_type": "code",
      "execution_count": null,
      "id": "bfa2de86",
      "metadata": {
        "id": "bfa2de86"
      },
      "outputs": [],
      "source": [
        "import os\n",
        "from astrapy.db import AstraDB"
      ]
    },
    {
      "cell_type": "code",
      "execution_count": null,
      "id": "6fbc8b04",
      "metadata": {
        "scrolled": true,
        "id": "6fbc8b04",
        "outputId": "ed92b7d9-bf83-4fe5-cf23-75a75ba22196"
      },
      "outputs": [
        {
          "name": "stdout",
          "output_type": "stream",
          "text": [
            "Connected to Astra DB: {'status': {'collections': ['reviews']}}\n"
          ]
        }
      ],
      "source": [
        "from astrapy.db import AstraDB\n",
        "\n",
        "# Initialization\n",
        "db = AstraDB(\n",
        "  token=\"<enter token>\",\n",
        "  api_endpoint=\"<API end point for 1 region>\")\n",
        "\n",
        "print(f\"Connected to Astra DB: {db.get_collections()}\")"
      ]
    },
    {
      "cell_type": "code",
      "execution_count": null,
      "id": "41c3ad02",
      "metadata": {
        "id": "41c3ad02"
      },
      "outputs": [],
      "source": [
        "# Create collection\n",
        "col = db.create_collection(\"reviews2\", dimension=5, metric=\"cosine\")"
      ]
    },
    {
      "cell_type": "code",
      "execution_count": null,
      "id": "01626793",
      "metadata": {
        "scrolled": true,
        "id": "01626793",
        "outputId": "d11a34c1-af8c-4e51-854e-bc73291f1f83"
      },
      "outputs": [
        {
          "name": "stdout",
          "output_type": "stream",
          "text": [
            "Connected to Astra DB: {'status': {'collections': ['reviews', 'reviews2']}}\n"
          ]
        }
      ],
      "source": [
        "print(f\"Connected to Astra DB: {db.get_collections()}\")"
      ]
    },
    {
      "cell_type": "code",
      "execution_count": null,
      "id": "8670d176",
      "metadata": {
        "id": "8670d176"
      },
      "outputs": [],
      "source": [
        "# insert 2 documents\n",
        "documents = [\n",
        "    {\n",
        "        \"_id\": \"1\",\n",
        "        \"text\": \"A movie I loved\",\n",
        "        \"$vector\": [0.1, 0.15, 0.3, 0.12, 0.05],\n",
        "    },\n",
        "    {\n",
        "        \"_id\": \"2\",\n",
        "        \"text\": \"A feel good film\",\n",
        "        \"$vector\": [0.45, 0.09, 0.01, 0.2, 0.11],\n",
        "    },\n",
        "]\n",
        "\n",
        "res = col.insert_many(documents)"
      ]
    },
    {
      "cell_type": "code",
      "execution_count": null,
      "id": "e7631c20",
      "metadata": {
        "scrolled": true,
        "id": "e7631c20",
        "outputId": "8d8bd4ec-7ff3-4009-c4b2-b48a3621fd01"
      },
      "outputs": [
        {
          "name": "stdout",
          "output_type": "stream",
          "text": [
            "{'_id': '2', 'text': 'A feel good film', '$vector': [0.45, 0.09, 0.01, 0.2, 0.11], '$similarity': 0.7967084}\n",
            "{'_id': '1', 'text': 'A movie I loved', '$vector': [0.1, 0.15, 0.3, 0.12, 0.05], '$similarity': 0.75363994}\n"
          ]
        }
      ],
      "source": [
        "# query\n",
        "query = [0.15, 0.1, 0.1, 0.35, 0.55]\n",
        "results = col.vector_find(query, limit=5, fields={\"text\", \"$vector\"})\n",
        "\n",
        "for document in results:\n",
        "    print(document)"
      ]
    },
    {
      "cell_type": "code",
      "execution_count": null,
      "id": "ea79ebc7",
      "metadata": {
        "id": "ea79ebc7",
        "outputId": "642cc0bb-2e6d-4602-a47d-9d44de0100f8"
      },
      "outputs": [
        {
          "name": "stdout",
          "output_type": "stream",
          "text": [
            "Connected to Astra DB: {'status': {'collections': ['reviews', 'reviews2']}}\n"
          ]
        }
      ],
      "source": [
        "# Connecting to a new region for the same DB\n",
        "\n",
        "db = AstraDB(\n",
        "  token=\"<enter token>\",\n",
        "  api_endpoint=\"<API end point for a different region>\")\n",
        "\n",
        "print(f\"Connected to Astra DB: {db.get_collections()}\")"
      ]
    },
    {
      "cell_type": "code",
      "execution_count": null,
      "id": "dd059821",
      "metadata": {
        "id": "dd059821"
      },
      "outputs": [],
      "source": [
        "# insert a document connecting to the new region\n",
        "documents = [\n",
        "     {\n",
        "        \"_id\": \"3\",\n",
        "        \"text\": \"A movie with a happy ending\",\n",
        "        \"$vector\": [0.1, 0.05, 0.08, 0.3, 0.6],\n",
        "    },\n",
        "]\n",
        "\n",
        "res = col.insert_many(documents)"
      ]
    },
    {
      "cell_type": "code",
      "execution_count": null,
      "id": "23791b4d",
      "metadata": {
        "scrolled": true,
        "id": "23791b4d",
        "outputId": "4aff1c52-25e9-4f13-ed3d-d2fea63d477a"
      },
      "outputs": [
        {
          "name": "stdout",
          "output_type": "stream",
          "text": [
            "{'_id': '3', 'text': 'A movie with a happy ending', '$vector': [0.1, 0.05, 0.08, 0.3, 0.6]}\n"
          ]
        }
      ],
      "source": [
        "for document in documents:\n",
        "    print(document)"
      ]
    },
    {
      "cell_type": "code",
      "execution_count": null,
      "id": "86fe5144",
      "metadata": {
        "id": "86fe5144",
        "outputId": "9531d0c2-16ba-43b3-f690-a7a8e6ec45e1"
      },
      "outputs": [
        {
          "name": "stdout",
          "output_type": "stream",
          "text": [
            "{'_id': '3', 'text': 'A movie with a happy ending', '$vector': [0.1, 0.05, 0.08, 0.3, 0.6], '$similarity': 0.99444735}\n",
            "{'_id': '2', 'text': 'A feel good film', '$vector': [0.45, 0.09, 0.01, 0.2, 0.11], '$similarity': 0.7967084}\n",
            "{'_id': '1', 'text': 'A movie I loved', '$vector': [0.1, 0.15, 0.3, 0.12, 0.05], '$similarity': 0.75363994}\n"
          ]
        }
      ],
      "source": [
        "# query\n",
        "query = [0.15, 0.1, 0.1, 0.35, 0.55]\n",
        "results = col.vector_find(query, limit=3, fields={\"text\", \"$vector\"})\n",
        "\n",
        "for document in results:\n",
        "    print(document)"
      ]
    }
  ],
  "metadata": {
    "kernelspec": {
      "display_name": "Python 3 (ipykernel)",
      "language": "python",
      "name": "python3"
    },
    "language_info": {
      "codemirror_mode": {
        "name": "ipython",
        "version": 3
      },
      "file_extension": ".py",
      "mimetype": "text/x-python",
      "name": "python",
      "nbconvert_exporter": "python",
      "pygments_lexer": "ipython3",
      "version": "3.11.5"
    },
    "colab": {
      "provenance": [],
      "include_colab_link": true
    }
  },
  "nbformat": 4,
  "nbformat_minor": 5
}