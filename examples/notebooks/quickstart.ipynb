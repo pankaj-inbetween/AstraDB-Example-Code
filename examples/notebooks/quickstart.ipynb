{
  "cells": [
    {
      "cell_type": "markdown",
      "metadata": {
        "id": "view-in-github",
        "colab_type": "text"
      },
      "source": [
        "<a href=\"https://colab.research.google.com/github/pankaj-inbetween/AstraDB-Example-Code/blob/main/examples/notebooks/quickstart.ipynb\" target=\"_parent\"><img src=\"https://colab.research.google.com/assets/colab-badge.svg\" alt=\"Open In Colab\"/></a>"
      ]
    },
    {
      "cell_type": "markdown",
      "metadata": {
        "id": "V2yY6cscdRHU"
      },
      "source": [
        "<a href=\"https://colab.research.google.com/github/datastax/ragstack-ai/blob/main/examples/notebooks/quickstart.ipynb\" target=\"_parent\"><img src=\"https://colab.research.google.com/assets/colab-badge.svg\" alt=\"Open In Colab\"/></a>"
      ]
    },
    {
      "cell_type": "markdown",
      "metadata": {
        "id": "3zWyzSFedRHW"
      },
      "source": [
        "# Quickstart with RAGStack\n",
        "\n",
        "This notebook demonstrates how to set up a simple RAG pipeline with RAGStack. At the end of this notebook, you will have a fully functioning Question/Answer model that can answer questions using your supplied documents.\n",
        "\n",
        "A RAG pipeline requires, at minimum, a vector store, an embedding model, and an LLM. In this tutorial, you will use an Astra DB vector store, an OpenAI embedding model, an OpenAI LLM, and LangChain to orchestrate it all together."
      ]
    },
    {
      "cell_type": "markdown",
      "metadata": {
        "id": "oDmsynXxdRHW"
      },
      "source": [
        "## Prerequisites\n",
        "\n",
        "You will need a vector-enabled Astra database and an OpenAI Account.\n",
        "\n",
        "* Create an [Astra vector database](https://docs.datastax.com/en/astra-serverless/docs/getting-started/create-db-choices.html).\n",
        "* Create an [OpenAI account](https://openai.com/)\n",
        "* Within your database, create an [Astra DB Access Token](https://docs.datastax.com/en/astra-serverless/docs/manage/org/manage-tokens.html) with Database Administrator permissions.\n",
        "* Get your Astra DB Endpoint:\n",
        "  * `https://<ASTRA_DB_ID>-<ASTRA_DB_REGION>.apps.astra.datastax.com`\n",
        "\n",
        "See the [Prerequisites](https://docs.datastax.com/en/ragstack/docs/prerequisites.html) page for more details."
      ]
    },
    {
      "cell_type": "markdown",
      "metadata": {
        "id": "bkCV91OJdRHW"
      },
      "source": [
        "## Setup\n",
        "`ragstack-ai` includes all the packages you need to build a RAG pipeline.\n",
        "\n",
        "`datasets` is used to import a sample dataset"
      ]
    },
    {
      "cell_type": "code",
      "execution_count": 1,
      "metadata": {
        "editable": true,
        "nbmake": {
          "post_cell_execute": [
            "from conftest import before_notebook",
            "before_notebook()"
          ]
        },
        "tags": [],
        "id": "F_yMMSSFdRHW",
        "outputId": "c0475e0a-6fad-44f3-876f-607d8ffe6714",
        "colab": {
          "base_uri": "https://localhost:8080/"
        }
      },
      "outputs": [
        {
          "output_type": "stream",
          "name": "stdout",
          "text": [
            "\u001b[?25l     \u001b[90m━━━━━━━━━━━━━━━━━━━━━━━━━━━━━━━━━━━━━━━━\u001b[0m \u001b[32m0.0/45.1 kB\u001b[0m \u001b[31m?\u001b[0m eta \u001b[36m-:--:--\u001b[0m\r\u001b[2K     \u001b[90m━━━━━━━━━━━━━━━━━━━━━━━━━━━━━━━━━━━━━━━━\u001b[0m \u001b[32m45.1/45.1 kB\u001b[0m \u001b[31m3.0 MB/s\u001b[0m eta \u001b[36m0:00:00\u001b[0m\n",
            "\u001b[?25h\u001b[?25l     \u001b[90m━━━━━━━━━━━━━━━━━━━━━━━━━━━━━━━━━━━━━━━━\u001b[0m \u001b[32m0.0/86.7 kB\u001b[0m \u001b[31m?\u001b[0m eta \u001b[36m-:--:--\u001b[0m\r\u001b[2K     \u001b[90m━━━━━━━━━━━━━━━━━━━━━━━━━━━━━━━━━━━━━━━━\u001b[0m \u001b[32m86.7/86.7 kB\u001b[0m \u001b[31m6.2 MB/s\u001b[0m eta \u001b[36m0:00:00\u001b[0m\n",
            "\u001b[?25h  Preparing metadata (setup.py) ... \u001b[?25l\u001b[?25hdone\n",
            "\u001b[2K     \u001b[90m━━━━━━━━━━━━━━━━━━━━━━━━━━━━━━━━━━━━━━━━\u001b[0m \u001b[32m38.0/38.0 MB\u001b[0m \u001b[31m11.0 MB/s\u001b[0m eta \u001b[36m0:00:00\u001b[0m\n",
            "\u001b[2K     \u001b[90m━━━━━━━━━━━━━━━━━━━━━━━━━━━━━━━━━━━━━━━━\u001b[0m \u001b[32m755.5/755.5 MB\u001b[0m \u001b[31m1.5 MB/s\u001b[0m eta \u001b[36m0:00:00\u001b[0m\n",
            "\u001b[2K     \u001b[90m━━━━━━━━━━━━━━━━━━━━━━━━━━━━━━━━━━━━━━━━\u001b[0m \u001b[32m145.4/145.4 kB\u001b[0m \u001b[31m17.1 MB/s\u001b[0m eta \u001b[36m0:00:00\u001b[0m\n",
            "\u001b[2K     \u001b[90m━━━━━━━━━━━━━━━━━━━━━━━━━━━━━━━━━━━━━━━━\u001b[0m \u001b[32m974.0/974.0 kB\u001b[0m \u001b[31m60.1 MB/s\u001b[0m eta \u001b[36m0:00:00\u001b[0m\n",
            "\u001b[2K     \u001b[90m━━━━━━━━━━━━━━━━━━━━━━━━━━━━━━━━━━━━━━━━\u001b[0m \u001b[32m2.2/2.2 MB\u001b[0m \u001b[31m74.2 MB/s\u001b[0m eta \u001b[36m0:00:00\u001b[0m\n",
            "\u001b[2K     \u001b[90m━━━━━━━━━━━━━━━━━━━━━━━━━━━━━━━━━━━━━━━━\u001b[0m \u001b[32m314.7/314.7 kB\u001b[0m \u001b[31m33.1 MB/s\u001b[0m eta \u001b[36m0:00:00\u001b[0m\n",
            "\u001b[2K     \u001b[90m━━━━━━━━━━━━━━━━━━━━━━━━━━━━━━━━━━━━━━━━\u001b[0m \u001b[32m2.0/2.0 MB\u001b[0m \u001b[31m72.4 MB/s\u001b[0m eta \u001b[36m0:00:00\u001b[0m\n",
            "\u001b[2K     \u001b[90m━━━━━━━━━━━━━━━━━━━━━━━━━━━━━━━━━━━━━━━━\u001b[0m \u001b[32m63.8/63.8 kB\u001b[0m \u001b[31m7.9 MB/s\u001b[0m eta \u001b[36m0:00:00\u001b[0m\n",
            "\u001b[2K     \u001b[90m━━━━━━━━━━━━━━━━━━━━━━━━━━━━━━━━━━━━━━━━\u001b[0m \u001b[32m15.4/15.4 MB\u001b[0m \u001b[31m63.9 MB/s\u001b[0m eta \u001b[36m0:00:00\u001b[0m\n",
            "\u001b[2K     \u001b[90m━━━━━━━━━━━━━━━━━━━━━━━━━━━━━━━━━━━━━━━━\u001b[0m \u001b[32m288.3/288.3 kB\u001b[0m \u001b[31m32.0 MB/s\u001b[0m eta \u001b[36m0:00:00\u001b[0m\n",
            "\u001b[2K     \u001b[90m━━━━━━━━━━━━━━━━━━━━━━━━━━━━━━━━━━━━━━━━\u001b[0m \u001b[32m547.8/547.8 kB\u001b[0m \u001b[31m46.5 MB/s\u001b[0m eta \u001b[36m0:00:00\u001b[0m\n",
            "\u001b[2K     \u001b[90m━━━━━━━━━━━━━━━━━━━━━━━━━━━━━━━━━━━━━━━━\u001b[0m \u001b[32m307.2/307.2 kB\u001b[0m \u001b[31m31.3 MB/s\u001b[0m eta \u001b[36m0:00:00\u001b[0m\n",
            "\u001b[2K     \u001b[90m━━━━━━━━━━━━━━━━━━━━━━━━━━━━━━━━━━━━━━━━\u001b[0m \u001b[32m53.6/53.6 kB\u001b[0m \u001b[31m6.4 MB/s\u001b[0m eta \u001b[36m0:00:00\u001b[0m\n",
            "\u001b[2K     \u001b[90m━━━━━━━━━━━━━━━━━━━━━━━━━━━━━━━━━━━━━━━━\u001b[0m \u001b[32m127.4/127.4 kB\u001b[0m \u001b[31m15.8 MB/s\u001b[0m eta \u001b[36m0:00:00\u001b[0m\n",
            "\u001b[2K     \u001b[90m━━━━━━━━━━━━━━━━━━━━━━━━━━━━━━━━━━━━━━━━\u001b[0m \u001b[32m53.0/53.0 kB\u001b[0m \u001b[31m6.7 MB/s\u001b[0m eta \u001b[36m0:00:00\u001b[0m\n",
            "\u001b[2K     \u001b[90m━━━━━━━━━━━━━━━━━━━━━━━━━━━━━━━━━━━━━━━━\u001b[0m \u001b[32m126.5/126.5 kB\u001b[0m \u001b[31m14.7 MB/s\u001b[0m eta \u001b[36m0:00:00\u001b[0m\n",
            "\u001b[2K     \u001b[90m━━━━━━━━━━━━━━━━━━━━━━━━━━━━━━━━━━━━━━━━\u001b[0m \u001b[32m4.5/4.5 MB\u001b[0m \u001b[31m61.3 MB/s\u001b[0m eta \u001b[36m0:00:00\u001b[0m\n",
            "\u001b[2K     \u001b[90m━━━━━━━━━━━━━━━━━━━━━━━━━━━━━━━━━━━━━━━━\u001b[0m \u001b[32m327.5/327.5 kB\u001b[0m \u001b[31m29.0 MB/s\u001b[0m eta \u001b[36m0:00:00\u001b[0m\n",
            "\u001b[2K     \u001b[90m━━━━━━━━━━━━━━━━━━━━━━━━━━━━━━━━━━━━━━━━\u001b[0m \u001b[32m1.1/1.1 MB\u001b[0m \u001b[31m48.7 MB/s\u001b[0m eta \u001b[36m0:00:00\u001b[0m\n",
            "\u001b[2K     \u001b[90m━━━━━━━━━━━━━━━━━━━━━━━━━━━━━━━━━━━━━━━━\u001b[0m \u001b[32m2.0/2.0 MB\u001b[0m \u001b[31m81.1 MB/s\u001b[0m eta \u001b[36m0:00:00\u001b[0m\n",
            "\u001b[2K     \u001b[90m━━━━━━━━━━━━━━━━━━━━━━━━━━━━━━━━━━━━━━━━\u001b[0m \u001b[32m75.6/75.6 kB\u001b[0m \u001b[31m9.0 MB/s\u001b[0m eta \u001b[36m0:00:00\u001b[0m\n",
            "\u001b[2K     \u001b[90m━━━━━━━━━━━━━━━━━━━━━━━━━━━━━━━━━━━━━━━━\u001b[0m \u001b[32m141.9/141.9 kB\u001b[0m \u001b[31m16.6 MB/s\u001b[0m eta \u001b[36m0:00:00\u001b[0m\n",
            "\u001b[2K     \u001b[90m━━━━━━━━━━━━━━━━━━━━━━━━━━━━━━━━━━━━━━━━\u001b[0m \u001b[32m139.2/139.2 kB\u001b[0m \u001b[31m17.4 MB/s\u001b[0m eta \u001b[36m0:00:00\u001b[0m\n",
            "\u001b[2K     \u001b[90m━━━━━━━━━━━━━━━━━━━━━━━━━━━━━━━━━━━━━━━━\u001b[0m \u001b[32m173.2/173.2 kB\u001b[0m \u001b[31m22.9 MB/s\u001b[0m eta \u001b[36m0:00:00\u001b[0m\n",
            "\u001b[2K     \u001b[90m━━━━━━━━━━━━━━━━━━━━━━━━━━━━━━━━━━━━━━━━\u001b[0m \u001b[32m166.0/166.0 MB\u001b[0m \u001b[31m6.5 MB/s\u001b[0m eta \u001b[36m0:00:00\u001b[0m\n",
            "\u001b[2K     \u001b[90m━━━━━━━━━━━━━━━━━━━━━━━━━━━━━━━━━━━━━━━━\u001b[0m \u001b[32m167.9/167.9 MB\u001b[0m \u001b[31m7.4 MB/s\u001b[0m eta \u001b[36m0:00:00\u001b[0m\n",
            "\u001b[2K     \u001b[90m━━━━━━━━━━━━━━━━━━━━━━━━━━━━━━━━━━━━━━━━\u001b[0m \u001b[32m431.4/431.4 kB\u001b[0m \u001b[31m35.1 MB/s\u001b[0m eta \u001b[36m0:00:00\u001b[0m\n",
            "\u001b[2K     \u001b[90m━━━━━━━━━━━━━━━━━━━━━━━━━━━━━━━━━━━━━━━━\u001b[0m \u001b[32m274.7/274.7 kB\u001b[0m \u001b[31m27.4 MB/s\u001b[0m eta \u001b[36m0:00:00\u001b[0m\n",
            "\u001b[2K     \u001b[90m━━━━━━━━━━━━━━━━━━━━━━━━━━━━━━━━━━━━━━━━\u001b[0m \u001b[32m981.5/981.5 kB\u001b[0m \u001b[31m46.4 MB/s\u001b[0m eta \u001b[36m0:00:00\u001b[0m\n",
            "\u001b[?25h  Preparing metadata (setup.py) ... \u001b[?25l\u001b[?25hdone\n",
            "\u001b[2K     \u001b[90m━━━━━━━━━━━━━━━━━━━━━━━━━━━━━━━━━━━━━━━━\u001b[0m \u001b[32m3.4/3.4 MB\u001b[0m \u001b[31m88.8 MB/s\u001b[0m eta \u001b[36m0:00:00\u001b[0m\n",
            "\u001b[2K     \u001b[90m━━━━━━━━━━━━━━━━━━━━━━━━━━━━━━━━━━━━━━━━\u001b[0m \u001b[32m41.0/41.0 kB\u001b[0m \u001b[31m5.8 MB/s\u001b[0m eta \u001b[36m0:00:00\u001b[0m\n",
            "\u001b[2K     \u001b[90m━━━━━━━━━━━━━━━━━━━━━━━━━━━━━━━━━━━━━━━━\u001b[0m \u001b[32m21.3/21.3 MB\u001b[0m \u001b[31m65.5 MB/s\u001b[0m eta \u001b[36m0:00:00\u001b[0m\n",
            "\u001b[?25h  Preparing metadata (setup.py) ... \u001b[?25l\u001b[?25hdone\n",
            "\u001b[2K     \u001b[90m━━━━━━━━━━━━━━━━━━━━━━━━━━━━━━━━━━━━━━━━\u001b[0m \u001b[32m18.9/18.9 MB\u001b[0m \u001b[31m77.1 MB/s\u001b[0m eta \u001b[36m0:00:00\u001b[0m\n",
            "\u001b[2K     \u001b[90m━━━━━━━━━━━━━━━━━━━━━━━━━━━━━━━━━━━━━━━━\u001b[0m \u001b[32m194.3/194.3 kB\u001b[0m \u001b[31m23.3 MB/s\u001b[0m eta \u001b[36m0:00:00\u001b[0m\n",
            "\u001b[2K     \u001b[90m━━━━━━━━━━━━━━━━━━━━━━━━━━━━━━━━━━━━━━━━\u001b[0m \u001b[32m110.9/110.9 kB\u001b[0m \u001b[31m14.6 MB/s\u001b[0m eta \u001b[36m0:00:00\u001b[0m\n",
            "\u001b[2K     \u001b[90m━━━━━━━━━━━━━━━━━━━━━━━━━━━━━━━━━━━━━━━━\u001b[0m \u001b[32m12.3/12.3 MB\u001b[0m \u001b[31m87.3 MB/s\u001b[0m eta \u001b[36m0:00:00\u001b[0m\n",
            "\u001b[2K     \u001b[90m━━━━━━━━━━━━━━━━━━━━━━━━━━━━━━━━━━━━━━━━\u001b[0m \u001b[32m82.7/82.7 kB\u001b[0m \u001b[31m11.5 MB/s\u001b[0m eta \u001b[36m0:00:00\u001b[0m\n",
            "\u001b[2K     \u001b[90m━━━━━━━━━━━━━━━━━━━━━━━━━━━━━━━━━━━━━━━━\u001b[0m \u001b[32m49.2/49.2 kB\u001b[0m \u001b[31m6.4 MB/s\u001b[0m eta \u001b[36m0:00:00\u001b[0m\n",
            "\u001b[2K     \u001b[90m━━━━━━━━━━━━━━━━━━━━━━━━━━━━━━━━━━━━━━━━\u001b[0m \u001b[32m139.4/139.4 kB\u001b[0m \u001b[31m17.5 MB/s\u001b[0m eta \u001b[36m0:00:00\u001b[0m\n",
            "\u001b[2K     \u001b[90m━━━━━━━━━━━━━━━━━━━━━━━━━━━━━━━━━━━━━━━━\u001b[0m \u001b[32m77.9/77.9 kB\u001b[0m \u001b[31m344.1 kB/s\u001b[0m eta \u001b[36m0:00:00\u001b[0m\n",
            "\u001b[2K     \u001b[90m━━━━━━━━━━━━━━━━━━━━━━━━━━━━━━━━━━━━━━━━\u001b[0m \u001b[32m57.5/57.5 kB\u001b[0m \u001b[31m6.9 MB/s\u001b[0m eta \u001b[36m0:00:00\u001b[0m\n",
            "\u001b[2K     \u001b[90m━━━━━━━━━━━━━━━━━━━━━━━━━━━━━━━━━━━━━━━━\u001b[0m \u001b[32m58.3/58.3 kB\u001b[0m \u001b[31m5.9 MB/s\u001b[0m eta \u001b[36m0:00:00\u001b[0m\n",
            "\u001b[2K     \u001b[90m━━━━━━━━━━━━━━━━━━━━━━━━━━━━━━━━━━━━━━━━\u001b[0m \u001b[32m145.0/145.0 kB\u001b[0m \u001b[31m17.4 MB/s\u001b[0m eta \u001b[36m0:00:00\u001b[0m\n",
            "\u001b[2K     \u001b[90m━━━━━━━━━━━━━━━━━━━━━━━━━━━━━━━━━━━━━━━━\u001b[0m \u001b[32m862.7/862.7 kB\u001b[0m \u001b[31m56.4 MB/s\u001b[0m eta \u001b[36m0:00:00\u001b[0m\n",
            "\u001b[2K     \u001b[90m━━━━━━━━━━━━━━━━━━━━━━━━━━━━━━━━━━━━━━━━\u001b[0m \u001b[32m290.4/290.4 kB\u001b[0m \u001b[31m32.2 MB/s\u001b[0m eta \u001b[36m0:00:00\u001b[0m\n",
            "\u001b[2K     \u001b[90m━━━━━━━━━━━━━━━━━━━━━━━━━━━━━━━━━━━━━━━━\u001b[0m \u001b[32m542.1/542.1 kB\u001b[0m \u001b[31m37.7 MB/s\u001b[0m eta \u001b[36m0:00:00\u001b[0m\n",
            "\u001b[2K     \u001b[90m━━━━━━━━━━━━━━━━━━━━━━━━━━━━━━━━━━━━━━━━\u001b[0m \u001b[32m116.3/116.3 kB\u001b[0m \u001b[31m14.9 MB/s\u001b[0m eta \u001b[36m0:00:00\u001b[0m\n",
            "\u001b[2K     \u001b[90m━━━━━━━━━━━━━━━━━━━━━━━━━━━━━━━━━━━━━━━━\u001b[0m \u001b[32m64.9/64.9 kB\u001b[0m \u001b[31m8.2 MB/s\u001b[0m eta \u001b[36m0:00:00\u001b[0m\n",
            "\u001b[2K     \u001b[90m━━━━━━━━━━━━━━━━━━━━━━━━━━━━━━━━━━━━━━━━\u001b[0m \u001b[32m194.1/194.1 kB\u001b[0m \u001b[31m20.7 MB/s\u001b[0m eta \u001b[36m0:00:00\u001b[0m\n",
            "\u001b[2K     \u001b[90m━━━━━━━━━━━━━━━━━━━━━━━━━━━━━━━━━━━━━━━━\u001b[0m \u001b[32m134.8/134.8 kB\u001b[0m \u001b[31m14.6 MB/s\u001b[0m eta \u001b[36m0:00:00\u001b[0m\n",
            "\u001b[2K     \u001b[90m━━━━━━━━━━━━━━━━━━━━━━━━━━━━━━━━━━━━━━━━\u001b[0m \u001b[32m207.3/207.3 kB\u001b[0m \u001b[31m24.8 MB/s\u001b[0m eta \u001b[36m0:00:00\u001b[0m\n",
            "\u001b[2K     \u001b[90m━━━━━━━━━━━━━━━━━━━━━━━━━━━━━━━━━━━━━━━━\u001b[0m \u001b[32m80.8/80.8 kB\u001b[0m \u001b[31m12.0 MB/s\u001b[0m eta \u001b[36m0:00:00\u001b[0m\n",
            "\u001b[2K     \u001b[90m━━━━━━━━━━━━━━━━━━━━━━━━━━━━━━━━━━━━━━━━\u001b[0m \u001b[32m54.5/54.5 kB\u001b[0m \u001b[31m7.9 MB/s\u001b[0m eta \u001b[36m0:00:00\u001b[0m\n",
            "\u001b[2K     \u001b[90m━━━━━━━━━━━━━━━━━━━━━━━━━━━━━━━━━━━━━━━━\u001b[0m \u001b[32m318.9/318.9 kB\u001b[0m \u001b[31m33.3 MB/s\u001b[0m eta \u001b[36m0:00:00\u001b[0m\n",
            "\u001b[2K     \u001b[90m━━━━━━━━━━━━━━━━━━━━━━━━━━━━━━━━━━━━━━━━\u001b[0m \u001b[32m62.7/62.7 kB\u001b[0m \u001b[31m7.7 MB/s\u001b[0m eta \u001b[36m0:00:00\u001b[0m\n",
            "\u001b[?25h  Building wheel for colbert-ai (setup.py) ... \u001b[?25l\u001b[?25hdone\n",
            "  Building wheel for bson (setup.py) ... \u001b[?25l\u001b[?25hdone\n",
            "  Building wheel for langdetect (setup.py) ... \u001b[?25l\u001b[?25hdone\n",
            "\u001b[31mERROR: pip's dependency resolver does not currently take into account all the packages that are installed. This behaviour is the source of the following dependency conflicts.\n",
            "google-colab 1.0.0 requires requests==2.31.0, but you have requests 2.32.3 which is incompatible.\n",
            "imageio 2.31.6 requires pillow<10.1.0,>=8.3.2, but you have pillow 10.3.0 which is incompatible.\n",
            "torchaudio 2.3.0+cu121 requires torch==2.3.0, but you have torch 2.2.1 which is incompatible.\n",
            "torchtext 0.18.0 requires torch>=2.3.0, but you have torch 2.2.1 which is incompatible.\n",
            "torchvision 0.18.0+cu121 requires torch==2.3.0, but you have torch 2.2.1 which is incompatible.\u001b[0m\u001b[31m\n",
            "\u001b[0m"
          ]
        }
      ],
      "source": [
        "! pip install -q ragstack-ai"
      ]
    },
    {
      "cell_type": "code",
      "execution_count": 2,
      "metadata": {
        "editable": true,
        "nbmake": {
          "post_cell_execute": [
            "import string\n",
            "import random\n",
            "collection = ''.join(random.choice(string.ascii_lowercase) for _ in range(8))\n"
          ]
        },
        "tags": [
          "skip-execution"
        ],
        "id": "JhCxipKldRHX",
        "outputId": "966febb6-dcc7-4c2c-ef71-76d6ab307826",
        "colab": {
          "base_uri": "https://localhost:8080/"
        }
      },
      "outputs": [
        {
          "name": "stdout",
          "output_type": "stream",
          "text": [
            "Enter your Astra DB API Endpoint: https://f737a4e3-0a39-4d82-aae4-f601a6448572-us-east1.apps.astra.datastax.com\n",
            "Enter your Astra DB Token: ··········\n",
            "Enter your OpenAI API Key: ··········\n"
          ]
        }
      ],
      "source": [
        "import os\n",
        "from getpass import getpass\n",
        "\n",
        "# Enter your settings for Astra DB and OpenAI:\n",
        "os.environ[\"ASTRA_DB_API_ENDPOINT\"] = input(\"Enter your Astra DB API Endpoint: \")\n",
        "os.environ[\"ASTRA_DB_APPLICATION_TOKEN\"] = getpass(\"Enter your Astra DB Token: \")\n",
        "os.environ[\"OPENAI_API_KEY\"] = getpass(\"Enter your OpenAI API Key: \")"
      ]
    },
    {
      "cell_type": "markdown",
      "metadata": {
        "id": "Qc1NIsgXdRHX"
      },
      "source": [
        "## Create RAG Pipeline"
      ]
    },
    {
      "cell_type": "markdown",
      "metadata": {
        "id": "a8AnHZghdRHX"
      },
      "source": [
        "### Embedding Model and Vector Store"
      ]
    },
    {
      "cell_type": "code",
      "execution_count": 4,
      "metadata": {
        "editable": true,
        "tags": [],
        "id": "HVzg2K7vdRHX",
        "outputId": "fc866d58-bca3-4f09-d976-4f4051321468",
        "colab": {
          "base_uri": "https://localhost:8080/"
        }
      },
      "outputs": [
        {
          "output_type": "stream",
          "name": "stdout",
          "text": [
            "Astra vector store configured\n"
          ]
        }
      ],
      "source": [
        "from langchain_astradb import AstraDBVectorStore\n",
        "from langchain.embeddings import OpenAIEmbeddings\n",
        "import os\n",
        "\n",
        "# Configure your embedding model and vector store\n",
        "embedding = OpenAIEmbeddings()\n",
        "vstore = AstraDBVectorStore(\n",
        "    collection_name=\"langflow_demo\",\n",
        "    embedding=embedding,\n",
        "    token=os.getenv(\"ASTRA_DB_APPLICATION_TOKEN\"),\n",
        "    api_endpoint=os.getenv(\"ASTRA_DB_API_ENDPOINT\"),\n",
        ")\n",
        "print(\"Astra vector store configured\")"
      ]
    },
    {
      "cell_type": "code",
      "execution_count": null,
      "metadata": {
        "id": "a4M1ZdHAdRHY",
        "outputId": "73e7c266-358c-4d98-cb44-58ac1a26daa9"
      },
      "outputs": [
        {
          "name": "stdout",
          "output_type": "stream",
          "text": [
            "An example entry:\n",
            "{'author': 'aristotle', 'quote': 'Love well, be loved and do something of value.', 'tags': 'love;ethics'}\n"
          ]
        }
      ],
      "source": [
        "from datasets import load_dataset\n",
        "\n",
        "# Load a sample dataset\n",
        "philo_dataset = load_dataset(\"datastax/philosopher-quotes\")[\"train\"]\n",
        "print(\"An example entry:\")\n",
        "print(philo_dataset[16])"
      ]
    },
    {
      "cell_type": "code",
      "execution_count": null,
      "metadata": {
        "id": "rrGbGKhwdRHY"
      },
      "outputs": [],
      "source": [
        "from langchain.schema import Document\n",
        "\n",
        "# Constructs a set of documents from your data. Documents can be used as inputs to your vector store.\n",
        "docs = []\n",
        "for entry in philo_dataset:\n",
        "    metadata = {\"author\": entry[\"author\"]}\n",
        "    if entry[\"tags\"]:\n",
        "        # Add metadata tags to the metadata dictionary\n",
        "        for tag in entry[\"tags\"].split(\";\"):\n",
        "            metadata[tag] = \"y\"\n",
        "    # Create a LangChain document with the quote and metadata tags\n",
        "    doc = Document(page_content=entry[\"quote\"], metadata=metadata)\n",
        "    docs.append(doc)"
      ]
    },
    {
      "cell_type": "code",
      "execution_count": null,
      "metadata": {
        "nbmake": {
          "post_cell_execute": [
            "assert len(inserted_ids) > 0"
          ]
        },
        "id": "JoZLP5H7dRHY",
        "outputId": "f1e3f8a6-9584-4f92-ffe3-da7a0b3d3bce"
      },
      "outputs": [
        {
          "name": "stdout",
          "output_type": "stream",
          "text": [
            "\n",
            "Inserted 450 documents.\n"
          ]
        }
      ],
      "source": [
        "# Create embeddings by inserting your documents into the vector store.\n",
        "inserted_ids = vstore.add_documents(docs)\n",
        "print(f\"\\nInserted {len(inserted_ids)} documents.\")"
      ]
    },
    {
      "cell_type": "code",
      "execution_count": 5,
      "metadata": {
        "editable": true,
        "tags": [],
        "id": "0mOeAZ_hdRHY",
        "outputId": "dad4663a-b871-4eb5-c68c-0c591b38be5c",
        "colab": {
          "base_uri": "https://localhost:8080/"
        }
      },
      "outputs": [
        {
          "output_type": "stream",
          "name": "stdout",
          "text": [
            "{'data': {'documents': [{'_id': 'ca82095c42bd467da4b7173bb51eb80e', 'content': 'C E O ,  L a n g c h a i n\\nD a t a  a n d  A I  T r e n d s  R e p o rt  2 0 2 4\\n T r e n d\\n1 T r e n d\\n2 T r e n d\\n3 T r e n d\\n4 T r e n d\\n5\\nP a g e  312 0 2 4  w i l l  b e  t h e  y e a r  \\u2028\\no f  r a p i d  d a t a  p l a t f o r m  \\n m o d e r n i z a t i o n .\\nP a g e  3 2D a t a  a n d  A I  T r e n d s  R e p o rt  2 0 2 4\\n T r e n d\\n1 T r e n d\\n2 T r e n d\\n3 T r e n d\\n4 T r e n d\\n5\\nO n l y  1 4 %  o f  o r g a n i z a t i o n s  \\na r e  s a t i s f i e d  w i t h  t h e i r  l e g a c y  d a t a b a s e s ’  s u p p o r t  f o r  A I ,  i n d i c a t i n g  \\nt h e r e  i s  a  l o t  \\no f  r o o m  f o r  i m p r o v e m e n t .\\nG oogl e C l o u d C u s t o mer In t elli g enc e T r end s R e s e ar ch S ur v e y , 20 24.\\nD a t a  a n d  A I  T r e n d s  R e p o rt  2 0 2 4\\n T r e n d\\n1 T r e n d\\n2 T r e n d\\n3 T r e n d\\n4 T r e n d\\n5\\nAs mo r e and mo r e o r g aniz a t i o n s s e ek t o t ak e', 'metadata': {'file_path': '/Users/pankajgajjar/Library/Caches/langflow/65c17fb2-ba14-4c36-9d26-2b7810ee4fea/data_ai_trends_report.pdf'}}, {'_id': '62d525bb99854affbcd7f6080a657fe3', 'content': \"p e r f o r m a n c e  i n s i g h t s ,  a n d  \\ne n h a n c e d  s e c u r i t y  p o s t u r e .\\u2028\\nA r e  y o u  o n e  o f  t h e m ?\\nD a t a  a n d  A I  T r e n d s  R e p o rt  2 0 2 4\\nG oogl e C l o u d help s o r g aniz a t i o n s unify d a t a \\nand c o nne c t i t wi t h gr o undb r e akin g AI t o unl e a sh tr an sf o rm a t iv e in s i gh t s and per s o n aliz e d e xperi enc e s. B y h arne ss in g t he s imp li ci t y , s c al ab ili t y , s e curi t y , and in t elli g enc e o f G oogl e's unif i e d d a t a and AI ap p r oa ch, b u s ine ss e s c an unl ock t he f ull po t en t i al o f t heir d a t a in a s in gl e, s tr e amline d s o lu t i o n.\\nBe c au s e G oogl e Da t a C l o u d c o n s o li d a t e s\", 'metadata': {'file_path': '/Users/pankajgajjar/Library/Caches/langflow/65c17fb2-ba14-4c36-9d26-2b7810ee4fea/data_ai_trends_report.pdf'}}, {'_id': '5018150ddb4a41d8a272119f87497acd', 'content': 'nu anc e and c o n t e xt t h an e v er be f o r e.”G en AI is n ’ t ju s t enh ancin g BI, i t’ s r ein v en t in g i t.\\nI r f a n  K h a nP r e s i d e n t  &  C h i e f  P r o d u c t  O f f i c e r ,  S A P  H A N A  D a t a b a s e  &  A n a l y t i c s ,  S A P\\nD a t a  a n d  A I  T r e n d s  R e p o rt  2 0 2 4\\n T r e n d\\n1 T r e n d\\n2 T r e n d\\n3 T r e n d\\n4 T r e n d\\n5\\nT h e  r o l e s  o f  d a t a  \\u2028\\na n d  A I  w i l l  b l u r .\\nP a g e  1 1\\n8 0 %  o f  r e s p o n d e n t s  a g r e e  \\nt h a t  t h e  l i n e s  b e t w e e n  d a t a  r o l e s  a r e  \\ns t a r t i n g  t o  b l u r .  D a t a  a n d  A I  T r e n d s  R e p o rt  2 0 2 4\\n T r e n d\\n1 T r e n d\\n2 T r e n d\\n3 T r e n d\\n4 T r e n d\\n5\\nP a g e  1 2 G oogl e C l o u d C u s t o mer In t elli g enc e T r end s R e s e ar ch S ur v e y , 20 24.\\nWhen I w a s li t t l e, m y mo m', 'metadata': {'file_path': '/Users/pankajgajjar/Library/Caches/langflow/65c17fb2-ba14-4c36-9d26-2b7810ee4fea/data_ai_trends_report.pdf'}}, {'_id': '66222fc7ad9b4853ba3e16c04428da55', 'content': 'T ak e t he a ss e ss men t\\nR e a d y t o j o i n\\nt h e  p a r t y ?\\nI f y o u’ v e g o t an y qu e s t i o n s abo u t t he c o n t en t o f t his r epo r t, o r\\nw an t t o kno w mo r e abo u t ho w G oogl e C l o u d c an sup po r t y o ur \\no r g aniz a t i o n, o ur e xper t s ar e alw a y s o n h and. \\nT alk t o an e xpert\\nC l e ar ly , 20 24 is sh ap in g up t o be an e x ci t in g -', 'metadata': {'file_path': '/Users/pankajgajjar/Library/Caches/langflow/65c17fb2-ba14-4c36-9d26-2b7810ee4fea/data_ai_trends_report.pdf'}}, {'_id': 'a7f0cce1929b4590bf612bcb21bd5cb4', 'content': 'F ur t hermo r e, y o ur d a t a c an al s o bene f i t fr o m AI and m a chine \\nl e arnin g (ML) f o r d e eper und er s t andin g, t o enh anc e mod el s, o r imp r o v e cu s t o mer e xperi enc e s. S u c c e ss hin g e s o n a chi e vin g all o f t his whil e m ain t ainin g a hi gh l e v el o f d a t a qu ali t y and s e curi t y , whil e up ho l din g r e s po n s ib l e d a t a u s e p rincip l e s.C h an g e s ar e rip p lin g a c r o ss t he en t ir e d a t a s t a ck in r e s po n s e t o t his ne w er a. T o l e arn mo r e abo u t ho w t e chno l ogi e s ar e shif t in g, G oogl e sur v e y e d hundr e d s o f b u s ine ss and IT l e a d er s wi t h qu e s t i o n s abo u t t heir g oal s and s tr a t e gi e s f o r h arne ss in g g en AI. This r epo r t d elv e s in t o t heir per s pe c t iv e s f o r 20 24 and be y o nd, o f f erin g v alu ab l e in s i gh t s f o r o r g aniz a t i o n s l oo kin g t o c ap i t aliz e o n g en AI wi t hin t heir en t erp ris e.', 'metadata': {'file_path': '/Users/pankajgajjar/Library/Caches/langflow/65c17fb2-ba14-4c36-9d26-2b7810ee4fea/data_ai_trends_report.pdf'}}, {'_id': '359fc9ecb6c74730a28404d774e7f642', 'content': \"p o s s i b l e  t h a n  e v e r .\\nP a g e  3 5\\nD a t a  a n d  A I  T r e n d s  R e p o rt  2 0 2 4\\n T r e n d\\n1 T r e n d\\n2 T r e n d\\n3 T r e n d\\n4 T r e n d\\n5\\nP a g e  3 6\\n“Da t a mi gr a t i o n t oo l s h a v e be en ar o und f o r e v er , b u t mo r e r e c en t ly , \\nt he y'v e be en g e t t in g s m ar t er wi t h t he ab ili t y t o d o AI a ss is t e d c od e \\nc o n v er s i o n and c od e c o mp l e t i o n. The h ar d e s t par t o f t he mi gr a t i o n \\nis tr an sf o rmin g t he d a t a and tr ainin g t he ne w ap p li c a t i o n s t o f i t in \\nt he ne w d a t aba s e. Bo t h ar e m a d e e a s i er t hr o u gh g en AI. \\n Ther e's \\ns t ill a t o n o f l e g a cy s tu f f , and g en AI is b rin gin g t he bar d o wn t o \\ns imp lifyin g mi gr a t i o n s.”Y o u c an \\nu s e a mod el t o l oo k a t a s o ur c e d a t aba s e and f ind o u t ho w t o \\ntr an sf o rm t he d a t a in t o t he d e s t in a t i o n d a t aba s e. Y o u c an g e t\", 'metadata': {'file_path': '/Users/pankajgajjar/Library/Caches/langflow/65c17fb2-ba14-4c36-9d26-2b7810ee4fea/data_ai_trends_report.pdf'}}, {'_id': '84e06ee707894bc8870ca8646fc81304', 'content': 'ar e b uil din g c en tr aliz e d po li cy \\nm an a g emen t, mo ni t o rin g, and au di t in g.\\nP a g e  2 0F e w e r  t h a n  h a l f  o f  r e s p o n d e n t s  \\n( 4 4 % )  a r e  f u l l y  c o n f i d e n t  in t heir o r g aniz a t i o n ’ s d a t a qu ali t y . \\nG oogl e C l o u d C u s t o mer In t elli g enc e T r end s R e s e ar ch S ur v e y , 20 24.\\nG oogl e C l o u d C u s t o mer In t elli g enc e T r end s R e s e ar ch S ur v e y , 20 24.\\nD a t a  a n d  A I  T r e n d s  R e p o rt  2 0 2 4\\n T r e n d\\n1 T r e n d\\n2 T r e n d\\n3 T r e n d\\n4 T r e n d\\n5\\nP a g e  21S n a p  I n c  u s e s  G o o g l e ’ s  D a t a  C l o u d  t o  d e l i v e r  a  b u s i n e s s  d o m a i n - s p e c i f i c ,', 'metadata': {'file_path': '/Users/pankajgajjar/Library/Caches/langflow/65c17fb2-ba14-4c36-9d26-2b7810ee4fea/data_ai_trends_report.pdf'}}, {'_id': '4b19eb9c964d418aae82fdd8a02b09e3', 'content': 'T r e n d\\n1 T r e n d\\n2 T r e n d\\n3 T r e n d\\n4 T r e n d\\n5\\nP a g e  8\\n1 6 %19%23%32%33%62%\\n47%\\n42%4 1%\\n36 %37%\\nSe curi t y L ogis t i cs A dminis tr a t iv e Bu s ine ss \\u2028\\nD e v el o p men tF in anc e & \\u2028A c c o un t in g C u s t o mer & \\nA c c o un t s er vi c e H um an \\u2028R e s o ur c e s Pr odu c t\\nM an a g emen t Oper a t i o n s Sal e s M ar k e t in g, A dv er t is in g & PR\\nD a t a  a n d  A I  T r e n d s  R e p o rt  2 0 2 4\\n T r e n d\\n1 T r e n d\\n2 T r e n d\\n3 T r e n d\\n4 T r e n d\\n5\\nP a g e  9\\n“W endy’ s in tr odu c e d t he f ir s t mod ern p i ck-up wind o w in t he indu s tr y \\nmo r e t h an 50 y e ar s a g o, and w e’ r e t hrill e d t o c o n t inu e o ur w o r k wi t h \\nG oogl e C l o u d t o b rin g a ne w w a v e o f inno v a t i o n t o t he driv e-t hru \\ne xperi enc e. \\n and all o ws o ur emp l o y e e s \\nt o c o n t inu e f ocu s in g o n m akin g gr e a t f ood and b uil din g r el a t i o n ship s', 'metadata': {'file_path': '/Users/pankajgajjar/Library/Caches/langflow/65c17fb2-ba14-4c36-9d26-2b7810ee4fea/data_ai_trends_report.pdf'}}, {'_id': 'e16acf5ce5834699aa58a482d17dc255', 'content': 'Indu s tr y\\nF in anci al s er vi c e s 74\\nR e t ail (e.g. G r oc er s, S t o r e s, \\nBo u t i qu e s, F r anchis e s, \\nR e s t aur an t s, e t c.)42\\nT e chno l ogy 85\\nO t her 103\\nP a g e  4 3\\nD ata  a n d  A I  T r e n d s  R e p o r t 2 0 2 4', 'metadata': {'file_path': '/Users/pankajgajjar/Library/Caches/langflow/65c17fb2-ba14-4c36-9d26-2b7810ee4fea/data_ai_trends_report.pdf'}}, {'_id': '28315d7bc2ee46d58eeef17418ad7a20', 'content': 'D a t a  a n d  A I  T r e n d s  R e p o rt  2 0 2 4\\n T r e n d\\n1 T r e n d\\n2 T r e n d\\n3 T r e n d\\n4 T r e n d\\n5\\nI t’ s almo s t impo ss ib l e t o o v er s t a t e ho w \\ns i gnif i c an t ly g en AI h a s ch an g e d t he t e chno l ogi c al l and s c ape. In t he c a s e o f b u s ine ss in t elli g enc e (BI), a s t oo l s be c o me mo r e a c c e ss ib l e, e v en no n-t e chni c al t e am member s will be ab l e t o bene f i t fr o m t he s e in s i gh t s; drivin g p r odu c t ivi t y and diss emin a t in g kno wl e d g e f a s t er t h an e v er be f o r e. Th a t me an s be t t er d a t a li t er a cy a c r o ss y o ur o r g aniz a t i o n, s m ar t er d e cis i o n s bein g m a d e, and ul t im a t ely gr e a t er su c c e ss in t he m ar k e t.\\n5 2 %  o f  n o n - t e c h n i c a l  u s e r s  a r e  a l r e a d y  \\nu s i n g  g e n  A I  t o  d r a w  o u t  i n s i g h t s  t o d a y .Mod ern BI t oo l s w er e alr e a dy d e v el o p in g w a y s', 'metadata': {'file_path': '/Users/pankajgajjar/Library/Caches/langflow/65c17fb2-ba14-4c36-9d26-2b7810ee4fea/data_ai_trends_report.pdf'}}, {'_id': '884ef8ef703e41ef9b4ad070dfda9cb6', 'content': 'u s e a mod el t o l oo k a t a s o ur c e d a t aba s e and f ind o u t ho w t o \\ntr an sf o rm t he d a t a in t o t he d e s t in a t i o n d a t aba s e. Y o u c an g e t \\ns o me qui ck win s, and ul t im a t ely g e t d e v el o per p r odu c t ivi t y .\\nA n d r e w  S to r r s\\nVP Da t a E n gine erin g, Ari t z i a\\nD a t a  a n d  A I  T r e n d s  R e p o rt  2 0 2 4\\n T r e n d\\n1 T r e n d\\n2 T r e n d\\n3 T r e n d\\n4 T r e n d\\n5\\nP a g e  3 7\\n“ C h ar a c t er .AI is a p i o ne er in t he d e s i gn and d e v el o p men t o f o pen-\\nend e d c o n v er s a t i o n al ap p li c a t i o n s. Our g en AI p l a t f o rm u t iliz e s o ur \\no wn a dv anc e d neur al l an g u a g e mod el t o g ener a t e hum an-lik e t e xt \\nr e s po n s e s and en g a g e in c o n t e xtu ally r el e v an t c o n v er s a t i o n s. \\nWhen w e f o und All o yDB f o r P o s t gr eSQL, w e w er e s tu ck be t w e en a \\nr ock and a h ar d p l a c e. Us a g e o f o ur s er vi c e h a d s c al e d', 'metadata': {'file_path': '/Users/pankajgajjar/Library/Caches/langflow/65c17fb2-ba14-4c36-9d26-2b7810ee4fea/data_ai_trends_report.pdf'}}, {'_id': '940a09ecc0884f1697d4c0dd5a90a342', 'content': 'S u c c e ssf ul d a t aba s e s will e v o lv e t o be AI-f ir s t, \\nand d e ep ly in t e gr a t e t e chno l ogi e s su ch a s; v e c t o r s e ar ch, s e aml e ss c o nne c t ivi t y t o AI mod el s, sup po r t f o r n a tur al l an g u a g e t o SQL, and t i gh t in t e gr a t i o n s wi t h AI t oo lin g and o pen s o ur c e fr ame w o r k s. All t he s e will be n a t iv ely b uil t in t o o per a t i o n al d a t aba s e s and will be c o me t ab l e s t ak e s. \\nD a t a b a s e s  t h a t  f a i l  t o  i n t e g r a t e  \\u2028\\ng e n  A I  c a p a b i l i t i e s  a r e  l i k e l y  t o  \\u2028b e c o m e  o b s o l e t e .\\nH a vin g AI cl o s er t o t he o per a t i o n al d a t a will', 'metadata': {'file_path': '/Users/pankajgajjar/Library/Caches/langflow/65c17fb2-ba14-4c36-9d26-2b7810ee4fea/data_ai_trends_report.pdf'}}, {'_id': 'cee99c75d6794793b1bdcf4678718d3b', 'content': '1,000 t o 4,999 19%\\n5,000 t o 9,999 20%\\n10,000 t o 49,999 30%\\n50,000+ 31%\\nR o l e l e v el\\nC-l e v el 14%\\nVP o r e quiv al en t 20%\\nDir e c t o r 43%\\nM an a g er 7%\\nL e a d / H e a d 4%\\nIn t er a c t i o n wi t h d a t a p r odu c t s and s er vi c e s\\nH and s o n 40%\\nS tr a t e gi c/ o v er s i gh t 60%R o l e\\nBu s ine ss D e v el o p men t 2%\\nIT o r IS (In f o rm a t i o n T e chno l ogy, \\nC o mp u t er E n gine erin g, Se curi t y, \\ne t c.)40%\\nSo ftw ar e D e v el o p men t 1%\\nT e chno l ogy S tr a t e gy o r Pr odu c t \\nD e v el o p men t11%\\nM ar k e t in g/ A dv ertis in g/PR 16%\\nOper a t i o n s 3%\\nPr odu c t M an a g emen t 3%\\nR e s e ar ch/ An alyt i cs/S tr a t e gi c \\nP l annin g6%\\nSal e s 1%\\nDa t a Sci enc e 15% R e gi o n\\nN ORAM 180\\nEMEA 104\\nJ AP A C 76\\nLA T AM 50\\nIndu s tr y\\nF in anci al s er vi c e s 74\\nR e t ail (e.g. G r oc er s, S t o r e s, \\nBo u t i qu e s, F r anchis e s, \\nR e s t aur an t s, e t c.)42\\nT e chno l ogy 85\\nO t her 103\\nP a g e  4 3', 'metadata': {'file_path': '/Users/pankajgajjar/Library/Caches/langflow/65c17fb2-ba14-4c36-9d26-2b7810ee4fea/data_ai_trends_report.pdf'}}, {'_id': '047fd6b6c5cf47d9ab302e25471d940f', 'content': 'G ar t ner Pr e di c t s Ne ar ly H alf o f C y ber s e curi t y L e a d er s W ill C h an g e J o b s b y 20 25, 20 23 .\\n6 9 %\\n3 1 %\\nD a t a  a n d  A I  T r e n d s  R e p o rt  2 0 2 4\\n T r e n d\\n1 T r e n d\\n2 T r e n d\\n3 T r e n d\\n4 T r e n d\\n5\\nP a g e  2 3\\n“20 24 is a w a t er she d mo men t f o r g ener a t iv e AI. Or g aniz a t i o n s t h a t \\nf ail t o m an a g e t he risk s t hr o u gho u t t he AI d e v el o p men t lif e cy cl e will \\nbe l e f t behind. \\n”Tho s e who p r oa c t iv ely e s t ab lish s tr o n g AI g o v ern anc e \\np r a c t i c e s ar e t he o ne s who will unl ock t he tru e po t en t i al\\u2028\\no f t his t e chno l ogy .\\nF e l i x  V a n  D e  M a e l e\\nC E O  a n d  C o -  F o u n d e r ,  C o l l i b r a\\nD a t a  a n d  A I  T r e n d s  R e p o rt  2 0 2 4\\n T r e n d\\n1 T r e n d\\n2 T r e n d\\n3 T r e n d\\n4 T r e n d\\n5\\nP a g e  2 4O p e r a t i o n a l  d a t a  w i l l  \\n \\nf o r  e n t e r p r i s e  a p p s .u n l o c k  g e n  A I  p o t e n t i a l', 'metadata': {'file_path': '/Users/pankajgajjar/Library/Caches/langflow/65c17fb2-ba14-4c36-9d26-2b7810ee4fea/data_ai_trends_report.pdf'}}, {'_id': '97a57d77056f4ce4913711807da4e516', 'content': 'To m  M o o r\\nHe a d o f US E n gine erin g, Line ar\\nD a t a  a n d  A I  T r e n d s  R e p o rt  2 0 2 4\\n T r e n d\\n1 T r e n d\\n2 T r e n d\\n3 T r e n d\\n4 T r e n d\\n5\\nP a g e  3 0\\n“ C u s t o mer s ar e l oo kin g t o l e v er a g e t he po w er o f LLMs b y \\n \\nT o sup po r t t he s e ne w u s e c a s e s, cl o u d-ba s e d d a t aba s e s o lu t i o n s \\nt h a t al s o emb r a c e o pen-s o ur c e g en AI o r che s tr a t i o n fr ame w o r k s will \\np r o vi d e ap p li c a t i o n d e v el o per s wi t h t he c apab ili t i e s t o help t hem \\nqui ckly and mo r e e f f i ci en t ly b uil d R e tri e v al A u gmen t e d\\u2028\\nG ener a t i o n (RA G) ap p li c a t i o n s.”au gmen t in g t hem wi t h t heir d o m ain kno wl e d g e and en t erp ris e d a t a.\\nH a r r i s o n  C h a s e\\nC E O ,  L a n g c h a i n\\nD a t a  a n d  A I  T r e n d s  R e p o rt  2 0 2 4\\n T r e n d\\n1 T r e n d\\n2 T r e n d\\n3 T r e n d\\n4 T r e n d\\n5\\nP a g e  312 0 2 4  w i l l  b e  t h e  y e a r', 'metadata': {'file_path': '/Users/pankajgajjar/Library/Caches/langflow/65c17fb2-ba14-4c36-9d26-2b7810ee4fea/data_ai_trends_report.pdf'}}, {'_id': '2e76a16db7be4f048df3a0ad686d393a', 'content': 't o b rin g d a t a t o e v er y o ne who ne e d e d i t; r epo r t s embe d d e d in t he mo s t r el e v an t c o n t e xt f o r t he d a t a, su ch a s a c c o un t in s i gh t s ap pe arin g in a s al e s per s o n ’ s CRM, is an e a sy e x amp l e. Bu t t ho s e in s i gh t s h a v e alw a y s ne e d e d t o be c ar e f ully cur a t e d b y an an aly s t. The end u s er h a s alw a y s be en a s t ep r emo v e d fr o m t he d a t a. C o nne c t in g a l ar g e l an g u a g e mod el t o y o ur b u s ine ss d a t a cl o s e s t h a t g ap. T e am member s c an in t er a c t wi t h y o ur d a t a in tui t iv ely and c o n v er s a t i o n ally , o r c r e a t e r epo r t s and d a shboar d s b y s imp ly ‘t alkin g’ t o y o ur d a t a o r m akin g a s imp l e s e ar ch a c r o ss y o ur b u s ine ss. In f a c t, m an y o f t he o r g aniz a t i o n s sur v e y e d f o r t his r epo r t ar e alr e a dy p u t t in g t his in t o p r a c t i c e. W h y  s h o u l d  y o u  c a r e ?', 'metadata': {'file_path': '/Users/pankajgajjar/Library/Caches/langflow/65c17fb2-ba14-4c36-9d26-2b7810ee4fea/data_ai_trends_report.pdf'}}, {'_id': '8c8d46c18606482cab2533db6c48a576', 'content': 'T r e n d\\n1 T r e n d\\n2 T r e n d\\n3 T r e n d\\n4 T r e n d\\n5\\nP a g e  2 8The tru e po w er o f g en AI is unl ock e d when \\no per a t i o n al d a t a is in t e gr a t e d wi t h g en AI t o d eliv er r e al-t ime, h yper-per s o n aliz e d, and c o n t e xtu ally-r el e v an t e xperi enc e s a c r o ss en t erp ris e ap p li c a t i o n s. Simp ly p u t, g en AI-en ab l e d o per a t i o n al d a t aba s e s ho l din g r el e v an t b u s ine ss d a t a will be t he k e y t o unl ockin g g en AI in t he en t erp ris e. \\nS u c c e ssf ul d a t aba s e s will e v o lv e t o be AI-f ir s t,', 'metadata': {'file_path': '/Users/pankajgajjar/Library/Caches/langflow/65c17fb2-ba14-4c36-9d26-2b7810ee4fea/data_ai_trends_report.pdf'}}, {'_id': '718754388f474bf6ad7ec5c728185c8b', 'content': 'inno v a t e f a s t er b y a c c el er a t in g t heir d a t a t o AI \\nj o urne y . \\nDa t a and AI t oo l s ar e al s o be c o min g \\ninc r e a s in gly in t er c o nne c t e d in o r d er t o help \\nu s er s s tr e amline d a t a and AI w o r kfl o ws. H a v e a c o mmo n w o r k s pa c e f o r d a t a \\nen gine er s, an aly s t s and s ci en t is t s t h a t \\nsup po r t s mul t ip l e c odin g l an g u a g e s su ch a s \\nSQL, Pyt ho n, and Spar k.E xt end s o f t w ar e d e v el o p men t be s t p r a c t i c e s \\nsu ch a s CI/ CD , v er s i o n his t o r y and s o ur c e \\nc o n tr o l t o d a t a a ss e t s, en ab lin g be t t er \\nc o ll abo r a t i o n and h and-o f f s.This in t er l ockin g all o ws u s er s t o:A c c o r din g t o r e s e ar ch, mo r e t h an h alf \\n(54%) o f di gi t al l e a d er s s a y s k i l l s  \\ns h o r t a g e s  p r e v e n t  t h e m  f r o m  k e e p i n g  u p', 'metadata': {'file_path': '/Users/pankajgajjar/Library/Caches/langflow/65c17fb2-ba14-4c36-9d26-2b7810ee4fea/data_ai_trends_report.pdf'}}, {'_id': 'e8867180af8f480caf15d42013e45da2', 'content': 'o r g aniz a t i o n s o f all s iz e s and a dherin g t o t he mo s t s trin g en t en t erp ris e r e quir emen t s. \\nW e help m ak e i t e a sy f o r o r g aniz a t i o n s t o \\nsh ar e d a t a s a f ely and s e cur ely a c r o ss o r g aniz a t i o n al bo und ari e s, run qu eri e s a c r o ss e x ab yt e s o f d a t a wi t h b l a z in g s pe e d, and p r oc e ss b illi o n s o f tr an s a c t i o n s – all wi t h g ener ally l o w er c o s t.\\nD a t a a n d A I T r e n d s R e p o rt 2 0 2 4\\nY o u c an al s o t ak e o ur Da t a & AI S tr a t e gy Ass e ss men t t o dis c o v er \\nho w r e a dy y o ur o r g aniz a t i o n is f o r AI-po w er e d di gi t al tr an sf o rm a t i o n and r e c eiv e e xper t r e c o mmend a t i o n s t o g e t y o u t her e f a s t er .\\nT ak e t he a ss e ss men t\\nR e a d y t o j o i n\\nt h e  p a r t y ?\\nI f y o u’ v e g o t an y qu e s t i o n s abo u t t he c o n t en t o f t his r epo r t, o r', 'metadata': {'file_path': '/Users/pankajgajjar/Library/Caches/langflow/65c17fb2-ba14-4c36-9d26-2b7810ee4fea/data_ai_trends_report.pdf'}}, {'_id': 'dd9cd2a67fec4abfb03ef4e76bd0fc71', 'content': \"P a g e  1 6\\n80% o f t he gl o bal d a t a s p her e \\u2028\\nwill be un s tru c tur e d b y 20 25.\\nV en tur eBe a t, 20 22.\\nD a t a  a n d  A I  T r e n d s  R e p o rt  2 0 2 4\\n T r e n d\\n1 T r e n d\\n2 T r e n d\\n3 T r e n d\\n4 T r e n d\\n5\\nP a g e  1 7\\n“The mo s t tr an sf o rm a t iv e a s pe c t o f 20 24's d a t a and AI l and s c ape \\nis n't ju s t abo u t e f f i ci ency – i t's abo u t d emoc r a t iz a t i o n. B y s e aml e ssly \\nin t er c o nne c t in g t he s e t e chno l ogi e s, \\n”w e empo w er no t ju s t d a t a \\ns ci en t is t s, b u t b u s ine ss u s er s a c r o ss t he o r g aniz a t i o n t o unl ock \\na c t i o n ab l e in s i gh t s and driv e inno v a t i o n.\\nA l i  G o l s h a n\\nC E O ,  G r et e l\\nD a t a  a n d  A I  T r e n d s  R e p o rt  2 0 2 4\\n T r e n d\\n1 T r e n d\\n2 T r e n d\\n3 T r e n d\\n4 T r e n d\\n5\\nP a g e  1 8A I  i n n o v a t i o n  w i l l  h i n g e  o n  \\ns t r o n g  d a t a  g o v e r n a n c e .\", 'metadata': {'file_path': '/Users/pankajgajjar/Library/Caches/langflow/65c17fb2-ba14-4c36-9d26-2b7810ee4fea/data_ai_trends_report.pdf'}}], 'nextPageState': 'KQAAAAEBAAAAIGRkOWNkMmE2N2ZlYzRhYmZiMDNlZjRlNzZiZDBmYzcxAPB////rAA=='}}\n"
          ]
        }
      ],
      "source": [
        "# Checks your collection to verify the documents are embedded.\n",
        "print(vstore.astra_db.collection(\"langflow_demo\").find())"
      ]
    },
    {
      "cell_type": "markdown",
      "metadata": {
        "id": "1FPCCSKUdRHY"
      },
      "source": [
        "### Basic Retrieval\n",
        "\n",
        "Retrieve context from your vector database, and pass it to the model with a prompt."
      ]
    },
    {
      "cell_type": "code",
      "execution_count": 9,
      "metadata": {
        "id": "DIMCz3uXdRHY",
        "outputId": "9f6fd113-be20-4fde-b4f2-ab8b59013492",
        "colab": {
          "base_uri": "https://localhost:8080/",
          "height": 35
        }
      },
      "outputs": [
        {
          "output_type": "execute_result",
          "data": {
            "text/plain": [
              "'Harrison Chase is the CEO of Langchain.'"
            ],
            "application/vnd.google.colaboratory.intrinsic+json": {
              "type": "string"
            }
          },
          "metadata": {},
          "execution_count": 9
        }
      ],
      "source": [
        "from langchain.prompts import ChatPromptTemplate\n",
        "from langchain.chat_models import ChatOpenAI\n",
        "from langchain.schema.output_parser import StrOutputParser\n",
        "from langchain.schema.runnable import RunnablePassthrough\n",
        "\n",
        "retriever = vstore.as_retriever(search_kwargs={\"k\": 3})\n",
        "\n",
        "prompt_template = \"\"\"\n",
        "Answer the question based only on the supplied context. If you don't know the answer, say you don't know the answer.\n",
        "Context: {context}\n",
        "Question: {question}\n",
        "Your answer:\n",
        "\"\"\"\n",
        "prompt = ChatPromptTemplate.from_template(prompt_template)\n",
        "model = ChatOpenAI()\n",
        "\n",
        "chain = (\n",
        "    {\"context\": retriever, \"question\": RunnablePassthrough()}\n",
        "    | prompt\n",
        "    | model\n",
        "    | StrOutputParser()\n",
        ")\n",
        "\n",
        "chain.invoke(\"In the given context, who is Harrison Chase?\")"
      ]
    },
    {
      "cell_type": "code",
      "execution_count": null,
      "metadata": {
        "id": "G5RXchWxdRHY"
      },
      "outputs": [],
      "source": [
        "# Add your questions here!\n",
        "# chain.invoke(\"<your question>\")"
      ]
    },
    {
      "cell_type": "markdown",
      "metadata": {
        "id": "cOtkSH_ydRHZ"
      },
      "source": [
        "## Cleanup"
      ]
    },
    {
      "cell_type": "code",
      "execution_count": null,
      "metadata": {
        "nbmake": {
          "post_cell_execute": [
            "# Deletes collection for test suite to allow each test to run with a fresh collection",
            "vstore.delete_collection()"
          ]
        },
        "id": "6_U0bYXNdRHZ"
      },
      "outputs": [],
      "source": [
        "# WARNING: This will delete the collection and all documents in the collection\n",
        "# vstore.delete_collection()"
      ]
    },
    {
      "cell_type": "markdown",
      "metadata": {
        "id": "79q2fbcedRHZ"
      },
      "source": [
        "You now have a fully functioning RAG pipeline! Note that there are several different ways to accomplish this, depending on your input data format, vector store, embedding, model, output type, and more. There are also more advanced RAG techniques that leverage new ingestion, retrieval, and generation patterns.  \n",
        "\n",
        "RAG is a powerful solution used in tandem with the capabilities of LLMs. Check out our other examples for ideas on how you can build innovative solutions using RAGStack!"
      ]
    }
  ],
  "metadata": {
    "kernelspec": {
      "display_name": "Python 3 (ipykernel)",
      "language": "python",
      "name": "python3"
    },
    "language_info": {
      "codemirror_mode": {
        "name": "ipython",
        "version": 3
      },
      "file_extension": ".py",
      "mimetype": "text/x-python",
      "name": "python",
      "nbconvert_exporter": "python",
      "pygments_lexer": "ipython3",
      "version": "3.11.2"
    },
    "colab": {
      "provenance": [],
      "include_colab_link": true
    }
  },
  "nbformat": 4,
  "nbformat_minor": 0
}