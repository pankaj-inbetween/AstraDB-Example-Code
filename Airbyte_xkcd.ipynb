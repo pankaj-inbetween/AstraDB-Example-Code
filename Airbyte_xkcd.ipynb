{
  "cells": [
    {
      "cell_type": "markdown",
      "metadata": {
        "id": "view-in-github",
        "colab_type": "text"
      },
      "source": [
        "<a href=\"https://colab.research.google.com/github/pankaj-inbetween/AstraDB-Example-Code/blob/main/Airbyte_xkcd.ipynb\" target=\"_parent\"><img src=\"https://colab.research.google.com/assets/colab-badge.svg\" alt=\"Open In Colab\"/></a>"
      ]
    },
    {
      "cell_type": "markdown",
      "metadata": {
        "id": "f8eKJ0oIkWDw"
      },
      "source": [
        "# Querying an Astra DB collection with an Airbyte Cloud data pipeline.\n",
        "\n",
        "This notebook will walk through how to build a simple application using a data pipeline from Airbyte Cloud. Our Airbyte Cloud pipeline will pull data from the XKCD API, and store it in Astra DB. Our application will then be able to run similarity searches on the vector embeddings to bring back data on the most-similar XKCD comic.\n",
        "\n",
        "This notebook is a companion to this blog post: [Airbyte and DataStax simplify GenAI and RAG app development](https://www.datastax.com/blog/airbyte-and-datastax-simplify-genai-and-rag-app-development)\n",
        "Requirements:\n",
        "*   A free account and vector database with [Astra DB](https://astra.datastax.com).\n",
        "*   A free account with [Airbyte](https://www.airbyte.com), and an Airbyte Cloud pipeline that has synchronized data into Astra DB.\n",
        "*   An [OpenAI](https://openai.com/) API key.\n",
        "\n",
        "## Setup\n",
        "\n",
        "Install the DataStax RAGStack and Matplotlib libraries."
      ]
    },
    {
      "cell_type": "code",
      "execution_count": null,
      "metadata": {
        "id": "rzObDtoguSEu"
      },
      "outputs": [],
      "source": [
        "!pip install ragstack-ai matplotlib"
      ]
    },
    {
      "cell_type": "markdown",
      "metadata": {
        "id": "nJYcLdVNzH8p"
      },
      "source": [
        "## Library Imports"
      ]
    },
    {
      "cell_type": "code",
      "execution_count": null,
      "metadata": {
        "id": "xWeydWiRzBpV"
      },
      "outputs": [],
      "source": [
        "from astrapy.db import AstraDB\n",
        "from langchain_openai import OpenAIEmbeddings\n",
        "from getpass import getpass\n",
        "from PIL import Image\n",
        "from matplotlib import image as mpimg\n",
        "from matplotlib import pyplot as plt\n",
        "from urllib.request import urlopen"
      ]
    },
    {
      "cell_type": "markdown",
      "metadata": {
        "id": "m762OesnuYte"
      },
      "source": [
        "## Environment Variables"
      ]
    },
    {
      "cell_type": "code",
      "execution_count": null,
      "metadata": {
        "id": "mPt3mo6jvVB1"
      },
      "outputs": [],
      "source": [
        "ASTRA_DB_APPLICATION_TOKEN = getpass('Your Astra DB Token (\"AstraCS:...\"): ')"
      ]
    },
    {
      "cell_type": "code",
      "execution_count": null,
      "metadata": {
        "id": "Pd14jb59vky0"
      },
      "outputs": [],
      "source": [
        "ASTRA_DB_API_ENDPOINT = input('Your Astra DB API endpoint: ')\n",
        "ASTRA_DB_KEYSPACE_NAME='default_keyspace'\n",
        "ASTRA_DB_COLLECTION_NAME='airbyte'"
      ]
    },
    {
      "cell_type": "code",
      "execution_count": null,
      "metadata": {
        "id": "ifDiIQc-vjGZ"
      },
      "outputs": [],
      "source": [
        "OPENAI_API_KEY = getpass('Your OpenAI API Key (\"sk-...\"): ')"
      ]
    },
    {
      "cell_type": "markdown",
      "metadata": {
        "id": "yxpz6G3PwYhM"
      },
      "source": [
        "## Define the OpenAI \"text-embedding-ada-002\" embedding model."
      ]
    },
    {
      "cell_type": "code",
      "execution_count": null,
      "metadata": {
        "id": "ZVyVbUfTwmeY"
      },
      "outputs": [],
      "source": [
        "model = OpenAIEmbeddings(openai_api_key=OPENAI_API_KEY)"
      ]
    },
    {
      "cell_type": "markdown",
      "metadata": {
        "id": "WJxxc4gDwp1J"
      },
      "source": [
        "## Connect to Astra DB"
      ]
    },
    {
      "cell_type": "code",
      "execution_count": null,
      "metadata": {
        "id": "2zavzZBiwsqh"
      },
      "outputs": [],
      "source": [
        "db = AstraDB(\n",
        "    token=ASTRA_DB_APPLICATION_TOKEN,\n",
        "    api_endpoint=ASTRA_DB_API_ENDPOINT,\n",
        "    namespace=ASTRA_DB_KEYSPACE_NAME,\n",
        ")\n",
        "collection = db.collection(ASTRA_DB_COLLECTION_NAME)"
      ]
    },
    {
      "cell_type": "markdown",
      "metadata": {
        "id": "zXrXV2vCw2v0"
      },
      "source": [
        "## Define your query"
      ]
    },
    {
      "cell_type": "code",
      "execution_count": null,
      "metadata": {
        "id": "4W0nTL-ow5n9"
      },
      "outputs": [],
      "source": [
        "query = input('Enter your query (\"Kepler\" is the default): ')\n",
        "\n",
        "if query == \"\":\n",
        "  query = \"Kepler\""
      ]
    },
    {
      "cell_type": "markdown",
      "metadata": {
        "id": "xrdyGlIAxNVp"
      },
      "source": [
        "## Generate a vector embedding of your query's text"
      ]
    },
    {
      "cell_type": "code",
      "execution_count": null,
      "metadata": {
        "id": "F_ChOMTjxR0Z"
      },
      "outputs": [],
      "source": [
        "print(f'query=\"{query}\"')\n",
        "vector = model.embed_query(query)\n",
        "print(f'vector=\"{vector}\"')"
      ]
    },
    {
      "cell_type": "markdown",
      "metadata": {
        "id": "XfeJNR78xeQk"
      },
      "source": [
        "## Store and print the result\n",
        "Be sure that you have run the Airbyte Cloud data pipeline to load data from the XKCD API into Astra DB, first!"
      ]
    },
    {
      "cell_type": "code",
      "execution_count": null,
      "metadata": {
        "id": "5Gg83lmFxX5l"
      },
      "outputs": [],
      "source": [
        "result = collection.vector_find_one(vector,fields=['title','img','alt'])\n",
        "\n",
        "print(result)"
      ]
    },
    {
      "cell_type": "markdown",
      "metadata": {
        "id": "1jGyhFzO0j5U"
      },
      "source": [
        "## Display the xkcd webcomic"
      ]
    },
    {
      "cell_type": "code",
      "execution_count": null,
      "metadata": {
        "id": "DV6QzTYL0n7I"
      },
      "outputs": [],
      "source": [
        "plt.title(result['title'])\n",
        "pil_image = Image.open(urlopen(result['img']))\n",
        "plt.imshow(pil_image)\n",
        "plt.show()\n",
        "print(result['alt'])"
      ]
    }
  ],
  "metadata": {
    "colab": {
      "provenance": [],
      "include_colab_link": true
    },
    "kernelspec": {
      "display_name": "Python 3",
      "name": "python3"
    },
    "language_info": {
      "name": "python"
    }
  },
  "nbformat": 4,
  "nbformat_minor": 0
}