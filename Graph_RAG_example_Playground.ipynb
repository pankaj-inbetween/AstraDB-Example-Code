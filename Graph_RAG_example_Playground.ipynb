{
  "cells": [
    {
      "cell_type": "markdown",
      "metadata": {
        "id": "view-in-github",
        "colab_type": "text"
      },
      "source": [
        "<a href=\"https://colab.research.google.com/github/pankaj-inbetween/AstraDB-Example-Code/blob/main/Graph_RAG_example_Playground.ipynb\" target=\"_parent\"><img src=\"https://colab.research.google.com/assets/colab-badge.svg\" alt=\"Open In Colab\"/></a>"
      ]
    },
    {
      "cell_type": "markdown",
      "metadata": {
        "id": "KfQJWl2G8UAt"
      },
      "source": [
        "# Graph RAG -- Connecting Knowledge for the LLM\n",
        "\n",
        "* Brian Godsey, DataStax -- brian.godsey@datastax.com\n",
        "\n",
        "---------------\n",
        "\n",
        "NOTE: this notebook was built locally and uploaded here. The dataset used here may not be in this notebook's environment and will need to be re-downloaded.\n",
        "\n",
        "---------------\n",
        "\n",
        "Graph RAG is particularly powerful for tasks where context and relationships within data are crucial. It's well-suited for applications where related pieces of information appear in very different documents or contexts, and thus may not be close semantic neighbors in a vector DB.\n",
        "\n",
        "It is also useful in natural language processing tasks that require deep understanding and contextualization, such as question answering, where the context provided by the graph data can significantly enhance the quality and relevance of the generated responses.\n",
        "\n",
        "### Motivation\n",
        "\n",
        "* To explore the possibilities for graph RAG on example datasets\n",
        "* To experiment with building and using knowledge graphs (KGs) for graph RAG\n",
        "* To compare results from graph RAG against plain RAG for various query types\n",
        "* To discover how and where graph RAG can be useful beyond plain RAG\n",
        "\n",
        "### Key Points\n",
        "\n",
        "* There are many ways to customize and tailor graph RAG to your datasets\n",
        "* The KG significantly impacts graph RAG performance\n",
        "* Building a KG dynamically can be tricky\n",
        "* Graph RAG can make connections and answer queries where plain RAG fails\n",
        "\n",
        "### Further Notes\n",
        "\n",
        "* The default implementations in LlamaIndex have some issues\n",
        "* Specifically: keyword extraction/matching, triplet extraction, case sensitivity, unidirectional traversal, default prompts\n",
        "* Adding a little more sophistication to a few of these could make significant improvements\n"
      ]
    },
    {
      "cell_type": "markdown",
      "metadata": {
        "id": "bTKH23_Hjowk"
      },
      "source": [
        "## Setup Enviroments and APIs"
      ]
    },
    {
      "cell_type": "markdown",
      "metadata": {
        "id": "kCujHuKgoyvx"
      },
      "source": [
        "### Package installations"
      ]
    },
    {
      "cell_type": "code",
      "execution_count": null,
      "metadata": {
        "id": "MgiwHIL_DqUp"
      },
      "outputs": [],
      "source": [
        "%pip install llama-index\n",
        "%pip install llama-index-vector-stores-astra\n",
        "\n",
        "%pip install networkx\n"
      ]
    },
    {
      "cell_type": "markdown",
      "metadata": {
        "id": "wNCmkzvzjowm"
      },
      "source": [
        "### Package imports and config parameters"
      ]
    },
    {
      "cell_type": "code",
      "execution_count": null,
      "metadata": {
        "id": "rkRkHPfRjowm"
      },
      "outputs": [],
      "source": [
        "# basic imports\n",
        "import os\n",
        "import sys\n",
        "import logging\n",
        "import networkx as nx\n",
        "from IPython.display import display, Markdown\n",
        "\n",
        "\n",
        "logging.basicConfig(\n",
        "    stream=sys.stdout, level=logging.INFO\n",
        ")  # logging.DEBUG for more verbose output\n",
        "\n",
        "\n",
        "# parameters for the knowledge graph and storage\n",
        "space_name = \"llamaindex\"\n",
        "edge_types, rel_prop_names = [\"relationship\"], [\n",
        "    \"relationship\"\n",
        "]  # default, could be omit if create from an empty kg\n",
        "tags = [\"entity\"]  # default, could be omit if create from an empty kg\n",
        "\n",
        "\n",
        "# HELPER FUNCTIONS\n",
        "\n",
        "# define prompt viewing function\n",
        "def display_prompt_dict(prompts_dict):\n",
        "    for k, p in prompts_dict.items():\n",
        "        text_md = f\"**Prompt Key**: {k}<br>\" f\"**Text:** <br>\"\n",
        "        display(Markdown(text_md))\n",
        "        print(p.get_template())\n",
        "        display(Markdown(\"<br><br>\"))\n"
      ]
    },
    {
      "cell_type": "markdown",
      "metadata": {
        "id": "cWWl02T2jowm"
      },
      "source": [
        "### Load Datasets"
      ]
    },
    {
      "cell_type": "markdown",
      "source": [
        "If the data isn't in this environment, you can find it here:\n",
        "\n",
        "https://github.com/run-llama/llama-datasets/tree/main/llama_datasets/origin_of_covid19\n"
      ],
      "metadata": {
        "id": "94kr4OH-2eLv"
      }
    },
    {
      "cell_type": "code",
      "source": [
        "# create directories and download file\n",
        "!mkdir origin_of_covid19\n",
        "!mkdir origin_of_covid19/source_files\n",
        "\n",
        "!curl -L -o origin_of_covid19/source_files/OriginsOfCovid19.pdf https://github.com/run-llama/llama-datasets/raw/main/llama_datasets/origin_of_covid19/source_files/OriginOfCovid19.pdf"
      ],
      "metadata": {
        "id": "T05p6ibCsaAM",
        "outputId": "af676c28-2e01-4b18-bf24-c22c3f8f03d5",
        "colab": {
          "base_uri": "https://localhost:8080/"
        }
      },
      "execution_count": null,
      "outputs": [
        {
          "output_type": "stream",
          "name": "stdout",
          "text": [
            "mkdir: cannot create directory ‘origin_of_covid19’: File exists\n",
            "mkdir: cannot create directory ‘origin_of_covid19/source_files’: File exists\n",
            "  % Total    % Received % Xferd  Average Speed   Time    Time     Time  Current\n",
            "                                 Dload  Upload   Total   Spent    Left  Speed\n",
            "  0     0    0     0    0     0      0      0 --:--:-- --:--:-- --:--:--     0\n",
            "100 2549k  100 2549k    0     0  3356k      0 --:--:-- --:--:-- --:--:-- 3356k\n"
          ]
        }
      ]
    },
    {
      "cell_type": "code",
      "execution_count": null,
      "metadata": {
        "id": "ZLU2Ecbujowm"
      },
      "outputs": [],
      "source": [
        "from llama_index.core import SimpleDirectoryReader\n",
        "from llama_index.core.llama_dataset import LabelledRagDataset\n",
        "\n",
        "PATH_TO_DATA = './'\n",
        "\n",
        "dataset_path = 'origin_of_covid19/source_files'\n",
        "\n",
        "#rag_dataset = LabelledRagDataset.from_json(\"./origin_of_covid_data/data/rag_dataset.json\")\n",
        "documents = SimpleDirectoryReader(input_dir=PATH_TO_DATA + dataset_path).load_data()"
      ]
    },
    {
      "cell_type": "code",
      "execution_count": null,
      "metadata": {
        "id": "MX1fvWyWjowm"
      },
      "outputs": [],
      "source": [
        "documents"
      ]
    },
    {
      "cell_type": "markdown",
      "metadata": {
        "id": "ggJRm4UEjowm"
      },
      "source": [
        "#### Download data (broken externally 2024-03-22)"
      ]
    },
    {
      "cell_type": "code",
      "execution_count": null,
      "metadata": {
        "id": "Xf_QrWGaIdnn"
      },
      "outputs": [],
      "source": [
        "from llama_index.core.llama_dataset import download_llama_dataset\n",
        "\n",
        "# This download step broke on 2024-03-22, giving a JSONDecodeError\n",
        "# it is still unclear what caused this\n",
        "\n",
        "# datasets from here: https://llamahub.ai/?tab=llama_datasets\n",
        "rag_dataset, documents = download_llama_dataset(\n",
        "    # \"PatronusAIFinanceBenchDataset\", \"./patronus_finance_data\" # this dataset takes a long time to download (>10min)\n",
        "    # \"PaulGrahamEssayDataset\", \"./paul_graham_data\"  # small dataset\n",
        "    \"OriginOfCovid19Dataset\", \"./origin_of_covid_data\"\n",
        "    #\"DocugamiKgRagSec10Q\", \"./docugami_finance_10Q_data\"  # https://github.com/docugami/KG-RAG-datasets\n",
        ")"
      ]
    },
    {
      "cell_type": "markdown",
      "metadata": {
        "id": "YT5jTkup9_Cj"
      },
      "source": [
        "### Prepare LLM: OpenAI"
      ]
    },
    {
      "cell_type": "code",
      "execution_count": null,
      "metadata": {
        "id": "ne0hwxgC-ESX",
        "outputId": "7a74ee84-f084-497f-dabe-86f1601da04c",
        "colab": {
          "base_uri": "https://localhost:8080/"
        }
      },
      "outputs": [
        {
          "name": "stdout",
          "output_type": "stream",
          "text": [
            "\n",
            "Please enter your OpenAI API Key (e.g. 'sk-...'):··········\n"
          ]
        }
      ],
      "source": [
        "import getpass\n",
        "\n",
        "os.environ[\"OPENAI_API_KEY\"] = getpass.getpass(\n",
        "    \"\\nPlease enter your OpenAI API Key (e.g. 'sk-...'):\"\n",
        ")\n",
        "\n",
        "\n",
        "# define LLM\n",
        "from llama_index.llms.openai import OpenAI\n",
        "from llama_index.core import Settings\n",
        "\n",
        "Settings.llm = OpenAI(\n",
        "    temperature=0,\n",
        "    #model=\"gpt-3.5-turbo\",\n",
        "    model=\"gpt-4\",\n",
        ")\n",
        "Settings.chunk_size = 512"
      ]
    },
    {
      "cell_type": "markdown",
      "metadata": {
        "id": "NZCEwcP58mFx"
      },
      "source": [
        "### Prepare Graph DB"
      ]
    },
    {
      "cell_type": "markdown",
      "metadata": {
        "id": "kmzeSIP1blpp"
      },
      "source": [
        "#### SimpleGraphStore\n",
        "\n",
        "Instead of a full-featured graph DB, for simplicity we'll use an in memory graph store object."
      ]
    },
    {
      "cell_type": "code",
      "execution_count": null,
      "metadata": {
        "id": "wfjDx63bbi1X"
      },
      "outputs": [],
      "source": [
        "from llama_index.core.graph_stores import SimpleGraphStore\n",
        "from llama_index.core import StorageContext\n",
        "\n",
        "graph_store = SimpleGraphStore()\n",
        "storage_context = StorageContext.from_defaults(graph_store=graph_store)"
      ]
    },
    {
      "cell_type": "markdown",
      "metadata": {
        "id": "eUpA-2HQA1Lh"
      },
      "source": [
        "## Build the Knowledge Graph"
      ]
    },
    {
      "cell_type": "markdown",
      "metadata": {
        "id": "DOXrEVyHjowo"
      },
      "source": [
        "### Create a custom triplet extraction prompt (optional)"
      ]
    },
    {
      "cell_type": "code",
      "execution_count": null,
      "metadata": {
        "id": "gZNFuNlZi9va"
      },
      "outputs": [],
      "source": [
        "from llama_index.core.prompts.base import PromptTemplate\n",
        "from llama_index.core.prompts.prompt_type import PromptType\n",
        "\n",
        "\n",
        "kg_prompt_template_string = (\n",
        "    \"Some text is provided below. \"\n",
        "    \"Given the text, extract up to \"\n",
        "    \"{max_knowledge_triplets} \"\n",
        "    \"knowledge triplets in the form of (subject, predicate, object). Avoid stopwords.\\n\"\n",
        "\n",
        "    \"* Keep the subject and predicate simple, and not too long.\"\n",
        "    \"* Focus on people, places, animals, organisms, diseases, organizations.\\n\"\n",
        "    \"* Return triplet text in all lowercase.\\n\"\n",
        "    \"* Also include triplets in the reverse relationship direction.\\n\"\n",
        "\n",
        "    \"\\n\\n---------------------\\n\"\n",
        "    \"Examples:\"\n",
        "    \"\\n\\nText: Sarbecoviruses are a group of viruses\"\n",
        "    \"\\nTriplets:\\n\"\n",
        "    \"(sarbecovisuses, are a group of, viruses)\"\n",
        "    \"(viruses, include, sarbecoviruses)\"\n",
        "\n",
        "    \"\\n\\nText: Sarbecoviruses are a group of viruses that naturally infect bats and pangolins.\"\n",
        "    \"\\nTriplets:\\n\"\n",
        "    \"(sarbecovisuses, are a group of, viruses)\"\n",
        "    \"(viruses, include, sarbecoviruses)\"\n",
        "    \"(sarbecoviruses, naturally infect, bats)\"\n",
        "    \"(bats, are naturally infected by, sarbecoviruses)\"\n",
        "    \"(sarbecoviruses, naturally infect, pangolins)\"\n",
        "    \"(pangolins, are naturally infected by, sarbecoviruses)\"\n",
        "\n",
        "    \"---------------------\\n\"\n",
        "    \"\\nText: {text}\\n\"\n",
        "    \"\\nTriplets:\\n\"\n",
        ")\n",
        "\n",
        "kg_triplet_template = PromptTemplate(\n",
        "    kg_prompt_template_string,\n",
        "    prompt_type=PromptType.KNOWLEDGE_TRIPLET_EXTRACT\n",
        ")"
      ]
    },
    {
      "cell_type": "markdown",
      "metadata": {
        "id": "VSSkb0NJjowo"
      },
      "source": [
        "### Build the KG\n",
        "\n",
        "This usually takes between 2 and 10 minutes, depending on LLM used and KG parameters."
      ]
    },
    {
      "cell_type": "code",
      "execution_count": null,
      "metadata": {
        "id": "CRLJshF6FyAw"
      },
      "outputs": [],
      "source": [
        "from llama_index.core import KnowledgeGraphIndex\n",
        "\n",
        "\n",
        "kg_index = KnowledgeGraphIndex.from_documents(\n",
        "    documents,\n",
        "    kg_triple_extract_template=kg_triplet_template,\n",
        "    storage_context=storage_context,\n",
        "    max_triplets_per_chunk=20,\n",
        "    space_name=space_name,\n",
        "    edge_types=edge_types,\n",
        "    rel_prop_names=rel_prop_names,\n",
        "    tags=tags,\n",
        "    include_embeddings=True,\n",
        ")"
      ]
    },
    {
      "cell_type": "markdown",
      "metadata": {
        "id": "nUMVtb9cd6k7"
      },
      "source": [
        "### Explore the KG"
      ]
    },
    {
      "cell_type": "code",
      "execution_count": null,
      "metadata": {
        "colab": {
          "base_uri": "https://localhost:8080/"
        },
        "id": "frwKkHZ2eBSi",
        "outputId": "b57a47f7-ab66-4dd9-85b0-99b609d9ed96"
      },
      "outputs": [
        {
          "output_type": "stream",
          "name": "stdout",
          "text": [
            "Number of nodes:  77\n"
          ]
        }
      ],
      "source": [
        "graph = kg_index.get_networkx_graph()\n",
        "\n",
        "print('Number of nodes: ', len(list(graph.nodes)))"
      ]
    },
    {
      "cell_type": "code",
      "execution_count": null,
      "metadata": {
        "id": "lFJl9q5reXfa"
      },
      "outputs": [],
      "source": [
        "# write the graph to a file\n",
        "# nx.write_graphml(graph.subgraph, \"kg.graphml\")"
      ]
    },
    {
      "cell_type": "code",
      "execution_count": null,
      "metadata": {
        "colab": {
          "base_uri": "https://localhost:8080/"
        },
        "id": "iI1pO7XSeHJX",
        "outputId": "b2db7ba0-d0d4-4804-8224-c1e2d218ab29"
      },
      "outputs": [
        {
          "output_type": "execute_result",
          "data": {
            "text/plain": [
              "[('Sars-cov-2', 21),\n",
              " ('Coronaviruses', 9),\n",
              " ('Scientists', 7),\n",
              " ('Sarbecoviruses', 6),\n",
              " ('Covid-19 pandemic', 4),\n",
              " ('David m. morens', 3),\n",
              " ('American society of tropical medicine and hygiene', 2),\n",
              " ('Charles h. calisher', 2),\n",
              " ('Peter c. doherty', 2),\n",
              " ('Beatrice h. hahn', 2),\n",
              " ('Department of medicine', 2),\n",
              " ('Gerald t. keusch', 2),\n",
              " ('Laura d. kramer', 2),\n",
              " ('American committee on arthropod-borne viruses', 1),\n",
              " ('National institute of allergy and infectious diseases', 1),\n",
              " ('Joel g. breman', 1),\n",
              " ('Arthropod-borne and infectious diseases laboratory', 1),\n",
              " ('Colorado state university', 1),\n",
              " ('Department of microbiology and immunology', 1),\n",
              " ('University of melbourne at the doherty institute', 1),\n",
              " ('Perelman school of medicine', 1),\n",
              " ('Boston university school of medicine', 1),\n",
              " ('Arbovirus laboratory', 1),\n",
              " ('Wadsworth center', 1),\n",
              " ('James w. leduc', 1),\n",
              " ('Galveston national laboratory', 1),\n",
              " ('Thomas p. monath', 1),\n",
              " ('Crozet biopharma llc', 1),\n",
              " ('Jeffery k. taubenberger', 1),\n",
              " ('Viral pathogenesis and evolution section', 1),\n",
              " ('Deadliest infectious diseases', 1),\n",
              " ('Last two decades', 1),\n",
              " ('Sarbecovirus', 1),\n",
              " ('The globe', 1),\n",
              " ('Β-coronavirus', 1),\n",
              " ('Bats and pangolins in asia and southeast asia', 1),\n",
              " ('Genetically related sars-cov', 1),\n",
              " ('Viruses of humans or animals', 1),\n",
              " ('Never identified in humans or animals before 2019', 1),\n",
              " ('China', 1),\n",
              " ('A natural event', 1),\n",
              " ('Neither the genetic fingerprints of any of the reverse genetics systems',\n",
              "  1),\n",
              " ('Not genetic sequences that would have been “forward engineered', 1),\n",
              " ('Unlike any previously identified coronavirus', 1),\n",
              " ('Engineered', 1),\n",
              " ('A laboratory', 1),\n",
              " ('Many other sarbecoviruses', 1),\n",
              " ('Their genetic cluster', 1),\n",
              " ('A virus that emerged naturally', 1),\n",
              " ('Genetic cluster of sarbecoviruses', 1),\n",
              " ('Effective antivirals', 1),\n",
              " ('Broadly protective vaccines', 1),\n",
              " ('Recombination and strong purifying selection', 1),\n",
              " ('Domestic cats', 1),\n",
              " ('Sarbecoviruses are poised to emerge', 1),\n",
              " ('Monitoring of known hotspots', 1),\n",
              " ('This years ago', 1),\n",
              " ('Appropriate alarm', 1),\n",
              " ('Recruited', 1),\n",
              " ('China and other hotspot countries', 1),\n",
              " ('Emerge', 1),\n",
              " ('Sars-cov', 1),\n",
              " ('Nidovirales', 1),\n",
              " ('Coronaviridae', 1),\n",
              " ('Coronavirinae', 1),\n",
              " ('Coronavirus emergence', 1),\n",
              " ('Late 2019', 1),\n",
              " ('Risk', 1),\n",
              " ('Similar coronavirus outbreaks', 1),\n",
              " ('Presence of a large reservoir of sars-cov', 1),\n",
              " ('Rna associated with proteins', 1),\n",
              " ('Rna viruses', 1),\n",
              " ('A large but unknown number of animal species', 1),\n",
              " ('Phylogenetically distinct taxonomic subgroups', 1),\n",
              " ('Animal species', 1),\n",
              " ('Distinct taxonomic subgroups', 1),\n",
              " ('Mild self-limited upper respiratory tract infections', 1)]"
            ]
          },
          "metadata": {},
          "execution_count": 25
        }
      ],
      "source": [
        "#list(graph.nodes)[0:20]\n",
        "sorted(graph.degree, key=lambda x: x[1], reverse=True) #[0:20]"
      ]
    },
    {
      "cell_type": "code",
      "execution_count": null,
      "metadata": {
        "colab": {
          "base_uri": "https://localhost:8080/"
        },
        "id": "GeJUjErNBZu4",
        "outputId": "a3137af2-5d16-4ff6-e181-b1c001005f80"
      },
      "outputs": [
        {
          "output_type": "execute_result",
          "data": {
            "text/plain": [
              "[('David m. morens',\n",
              "  'American committee on arthropod-borne viruses',\n",
              "  {'label': 'Includes', 'title': 'Includes'}),\n",
              " ('David m. morens',\n",
              "  'American society of tropical medicine and hygiene',\n",
              "  {'label': 'Includes', 'title': 'Includes'}),\n",
              " ('David m. morens',\n",
              "  'National institute of allergy and infectious diseases',\n",
              "  {'label': 'Is part of', 'title': 'Is part of'}),\n",
              " ('American society of tropical medicine and hygiene',\n",
              "  'Joel g. breman',\n",
              "  {'label': 'Includes', 'title': 'Includes'}),\n",
              " ('Charles h. calisher',\n",
              "  'Arthropod-borne and infectious diseases laboratory',\n",
              "  {'label': 'Has employee', 'title': 'Has employee'}),\n",
              " ('Charles h. calisher',\n",
              "  'Colorado state university',\n",
              "  {'label': 'Is part of', 'title': 'Is part of'}),\n",
              " ('Peter c. doherty',\n",
              "  'Department of microbiology and immunology',\n",
              "  {'label': 'Includes', 'title': 'Includes'}),\n",
              " ('Peter c. doherty',\n",
              "  'University of melbourne at the doherty institute',\n",
              "  {'label': 'Is part of', 'title': 'Is part of'}),\n",
              " ('Beatrice h. hahn',\n",
              "  'Department of medicine',\n",
              "  {'label': 'Has employee', 'title': 'Has employee'}),\n",
              " ('Beatrice h. hahn',\n",
              "  'Perelman school of medicine',\n",
              "  {'label': 'Is part of', 'title': 'Is part of'}),\n",
              " ('Department of medicine',\n",
              "  'Gerald t. keusch',\n",
              "  {'label': 'Works at', 'title': 'Works at'}),\n",
              " ('Gerald t. keusch',\n",
              "  'Boston university school of medicine',\n",
              "  {'label': 'Is part of', 'title': 'Is part of'}),\n",
              " ('Laura d. kramer',\n",
              "  'Arbovirus laboratory',\n",
              "  {'label': 'Has employee', 'title': 'Has employee'}),\n",
              " ('Laura d. kramer',\n",
              "  'Wadsworth center',\n",
              "  {'label': 'Is part of', 'title': 'Is part of'}),\n",
              " ('James w. leduc',\n",
              "  'Galveston national laboratory',\n",
              "  {'label': 'Has employee', 'title': 'Has employee'}),\n",
              " ('Thomas p. monath',\n",
              "  'Crozet biopharma llc',\n",
              "  {'label': 'Has employee', 'title': 'Has employee'}),\n",
              " ('Jeffery k. taubenberger',\n",
              "  'Viral pathogenesis and evolution section',\n",
              "  {'label': 'Has employee', 'title': 'Has employee'}),\n",
              " ('Covid-19 pandemic',\n",
              "  'Deadliest infectious diseases',\n",
              "  {'label': 'Include', 'title': 'Include'}),\n",
              " ('Covid-19 pandemic',\n",
              "  'Last two decades',\n",
              "  {'label': 'Appeared', 'title': 'Appeared'}),\n",
              " ('Covid-19 pandemic',\n",
              "  'Sarbecovirus',\n",
              "  {'label': 'Was caused by', 'title': 'Was caused by'}),\n",
              " ('Covid-19 pandemic', 'The globe', {'label': 'Sweeps', 'title': 'Sweeps'}),\n",
              " ('Sars-cov-2',\n",
              "  'Β-coronavirus',\n",
              "  {'label': 'Evolved into', 'title': 'Evolved into'}),\n",
              " ('Sars-cov-2',\n",
              "  'Bats and pangolins in asia and southeast asia',\n",
              "  {'label': 'Are infected by', 'title': 'Are infected by'}),\n",
              " ('Sars-cov-2',\n",
              "  'Genetically related sars-cov',\n",
              "  {'label': 'Named after', 'title': 'Named after'}),\n",
              " ('Sars-cov-2',\n",
              "  'Viruses of humans or animals',\n",
              "  {'label': 'Not identified in', 'title': 'Not identified in'}),\n",
              " ('Sars-cov-2',\n",
              "  'Never identified in humans or animals before 2019',\n",
              "  {'label': 'Was', 'title': 'Was'}),\n",
              " ('Sars-cov-2',\n",
              "  'Sarbecoviruses',\n",
              "  {'label': 'Share genetic properties with',\n",
              "   'title': 'Share genetic properties with'}),\n",
              " ('Sars-cov-2', 'China', {'label': 'Emerged in', 'title': 'Emerged in'}),\n",
              " ('Sars-cov-2', 'A natural event', {'label': 'Emerged', 'title': 'Emerged'}),\n",
              " ('Sars-cov-2',\n",
              "  'Neither the genetic fingerprints of any of the reverse genetics systems',\n",
              "  {'label': 'Contains', 'title': 'Contains'}),\n",
              " ('Sars-cov-2',\n",
              "  'Not genetic sequences that would have been “forward engineered',\n",
              "  {'label': 'Contains', 'title': 'Contains'}),\n",
              " ('Sars-cov-2',\n",
              "  'Unlike any previously identified coronavirus',\n",
              "  {'label': 'Is', 'title': 'Is'}),\n",
              " ('Sars-cov-2',\n",
              "  'Engineered',\n",
              "  {'label': 'Could have been', 'title': 'Could have been'}),\n",
              " ('Sars-cov-2',\n",
              "  'A laboratory',\n",
              "  {'label': 'Was released from', 'title': 'Was released from'}),\n",
              " ('Sars-cov-2',\n",
              "  'Many other sarbecoviruses',\n",
              "  {'label': 'Shares genetic properties with',\n",
              "   'title': 'Shares genetic properties with'}),\n",
              " ('Sars-cov-2',\n",
              "  'Their genetic cluster',\n",
              "  {'label': 'Lies fully within', 'title': 'Lies fully within'}),\n",
              " ('Sars-cov-2',\n",
              "  'A virus that emerged naturally',\n",
              "  {'label': 'Is', 'title': 'Is'}),\n",
              " ('Sars-cov-2',\n",
              "  'Genetic cluster of sarbecoviruses',\n",
              "  {'label': 'Lies within', 'title': 'Lies within'}),\n",
              " ('Sars-cov-2', 'Effective antivirals', {'label': 'Need', 'title': 'Need'}),\n",
              " ('Sars-cov-2',\n",
              "  'Broadly protective vaccines',\n",
              "  {'label': 'Need', 'title': 'Need'}),\n",
              " ('Sars-cov-2',\n",
              "  'Recombination and strong purifying selection',\n",
              "  {'label': 'Emerged through', 'title': 'Emerged through'}),\n",
              " ('Sars-cov-2',\n",
              "  'Domestic cats',\n",
              "  {'label': 'Transmitted in', 'title': 'Transmitted in'}),\n",
              " ('Sarbecoviruses',\n",
              "  'Emerge',\n",
              "  {'label': 'Are poised to', 'title': 'Are poised to'}),\n",
              " ('Sarbecoviruses', 'Sars-cov', {'label': 'Include', 'title': 'Include'}),\n",
              " ('Sarbecoviruses',\n",
              "  'Nidovirales',\n",
              "  {'label': 'Belong to', 'title': 'Belong to'}),\n",
              " ('Sarbecoviruses',\n",
              "  'Coronaviridae',\n",
              "  {'label': 'Belong to', 'title': 'Belong to'}),\n",
              " ('Sarbecoviruses',\n",
              "  'Coronavirinae',\n",
              "  {'label': 'Belong to', 'title': 'Belong to'}),\n",
              " ('Scientists',\n",
              "  'Sarbecoviruses are poised to emerge',\n",
              "  {'label': 'Have warned', 'title': 'Have warned'}),\n",
              " ('Scientists',\n",
              "  'Coronaviruses',\n",
              "  {'label': 'Are studied by', 'title': 'Are studied by'}),\n",
              " ('Scientists',\n",
              "  'Monitoring of known hotspots',\n",
              "  {'label': 'Have proposed', 'title': 'Have proposed'}),\n",
              " ('Scientists', 'This years ago', {'label': 'Knew', 'title': 'Knew'}),\n",
              " ('Scientists', 'Appropriate alarm', {'label': 'Raised', 'title': 'Raised'}),\n",
              " ('Scientists', 'Recruited', {'label': 'Should be', 'title': 'Should be'}),\n",
              " ('Scientists',\n",
              "  'China and other hotspot countries',\n",
              "  {'label': 'Work in', 'title': 'Work in'}),\n",
              " ('Coronaviruses',\n",
              "  'Presence of a large reservoir of sars-cov',\n",
              "  {'label': 'Warned', 'title': 'Warned'}),\n",
              " ('Coronaviruses',\n",
              "  'Rna associated with proteins',\n",
              "  {'label': 'Are', 'title': 'Are'}),\n",
              " ('Coronaviruses', 'Rna viruses', {'label': 'Are', 'title': 'Are'}),\n",
              " ('Coronaviruses',\n",
              "  'A large but unknown number of animal species',\n",
              "  {'label': 'Are globally distributed in',\n",
              "   'title': 'Are globally distributed in'}),\n",
              " ('Coronaviruses',\n",
              "  'Phylogenetically distinct taxonomic subgroups',\n",
              "  {'label': 'Are found within', 'title': 'Are found within'}),\n",
              " ('Coronaviruses',\n",
              "  'Animal species',\n",
              "  {'label': 'Are distributed in', 'title': 'Are distributed in'}),\n",
              " ('Coronaviruses',\n",
              "  'Distinct taxonomic subgroups',\n",
              "  {'label': 'Are found within', 'title': 'Are found within'}),\n",
              " ('Coronaviruses',\n",
              "  'Mild self-limited upper respiratory tract infections',\n",
              "  {'label': 'Cause', 'title': 'Cause'}),\n",
              " ('Coronavirus emergence',\n",
              "  'Late 2019',\n",
              "  {'label': 'Detected', 'title': 'Detected'}),\n",
              " ('Risk',\n",
              "  'Similar coronavirus outbreaks',\n",
              "  {'label': 'Have high', 'title': 'Have high'})]"
            ]
          },
          "metadata": {},
          "execution_count": 26
        }
      ],
      "source": [
        "list(graph.edges(data=True))"
      ]
    },
    {
      "cell_type": "markdown",
      "metadata": {
        "id": "s7g2pcUaBKSY"
      },
      "source": [
        "## Graph RAG"
      ]
    },
    {
      "cell_type": "markdown",
      "metadata": {
        "id": "AOeL598ljowp"
      },
      "source": [
        "### Build Retriever and Query Engine"
      ]
    },
    {
      "cell_type": "code",
      "execution_count": null,
      "metadata": {
        "id": "n1VtNqmiBUAd"
      },
      "outputs": [],
      "source": [
        "from llama_index.core.query_engine import RetrieverQueryEngine\n",
        "from llama_index.core.retrievers import KnowledgeGraphRAGRetriever, KGTableRetriever\n",
        "\n",
        "\n",
        "GRAPH_TRAVERSAL_DEPTH = 3\n",
        "graph_rag_retriever = KGTableRetriever(\n",
        "    kg_index,\n",
        "    storage_context=storage_context,\n",
        "    verbose=True,\n",
        "    retriever_mode='embedding', #'keyword', 'embedding'\n",
        "    graph_traversal_depth=GRAPH_TRAVERSAL_DEPTH,\n",
        "    use_global_node_triplets=True,\n",
        "    include_text=True,\n",
        ")\n",
        "# explicitly set this, because sometimes it isn't set correctly\n",
        "graph_rag_retriever.graph_store_query_depth = GRAPH_TRAVERSAL_DEPTH\n",
        "\n",
        "graph_query_engine = RetrieverQueryEngine.from_args(\n",
        "    graph_rag_retriever,\n",
        "    retriever_mode='embedding', #\"keyword\",\n",
        "    response_mode='tree_summarize', # \"simple_summarize\" \"compact\", \"tree_summarize\",\n",
        ")\n"
      ]
    },
    {
      "cell_type": "code",
      "execution_count": null,
      "metadata": {
        "id": "H8yCMtDHjowq"
      },
      "outputs": [],
      "source": [
        "# check some properties of the Retriever\n",
        "#dir(graph_rag_retriever)\n",
        "#graph_rag_retriever._include_text"
      ]
    },
    {
      "cell_type": "markdown",
      "metadata": {
        "id": "FCTkCRkDjowq"
      },
      "source": [
        "#### Alternate Constructions of KG Retrievers and Query Engines"
      ]
    },
    {
      "cell_type": "code",
      "execution_count": null,
      "metadata": {
        "id": "Y9_-SG6ejowq"
      },
      "outputs": [],
      "source": [
        "# graph_rag_retriever = KnowledgeGraphRAGRetriever(\n",
        "#     storage_context=storage_context,\n",
        "#     verbose=True,\n",
        "#     retriever_mode='keyword',   # 'embedding', is not implemented in LlamaIndex yet\n",
        "#     graph_traversal_depth=3,\n",
        "#     include_text=True,\n",
        "# )\n",
        "\n",
        "# graph_query_engine = kg_index.as_query_engine(\n",
        "#     include_text=False,\n",
        "#     retriever_mode=\"keyword\",\n",
        "#     response_mode=\"tree_summarize\",\n",
        "# )"
      ]
    },
    {
      "cell_type": "markdown",
      "metadata": {
        "id": "WXdFveUSjowq"
      },
      "source": [
        "### Querying with Graph RAG"
      ]
    },
    {
      "cell_type": "code",
      "execution_count": null,
      "metadata": {
        "colab": {
          "base_uri": "https://localhost:8080/",
          "height": 206
        },
        "id": "np3T5WtrFtZJ",
        "outputId": "f344bc43-a59b-47c8-e3d5-455c87029121"
      },
      "outputs": [
        {
          "output_type": "stream",
          "name": "stdout",
          "text": [
            "\u001b[1;3;32mExtracted keywords: ['COVID virus', 'origin', 'COVID', 'virus']\n",
            "\u001b[0m\u001b[1;3;34mKG context:\n",
            "The following are knowledge sequence in max depth 3 in the form of directed graph like:\n",
            "`subject -[predicate]->, object, <-[predicate_next_hop]-, object_next_hop ...`\n",
            "('Theories', 'About', 'A hypothetical man-made origin of sars-cov-2')\n",
            "('Scientific research', 'Provides clues', 'How and why the covid-19 pandemic appeared')\n",
            "\u001b[0m"
          ]
        },
        {
          "output_type": "display_data",
          "data": {
            "text/plain": [
              "<IPython.core.display.Markdown object>"
            ],
            "text/markdown": "<b>The COVID-19 virus, also known as SARS-CoV-2, is believed to have originated from bats, specifically from a group of SARS-like bat viruses. It is thought to have been transmitted to humans either directly or indirectly through an intermediate host such as a Malaysian pangolin or another yet-to-be-identified mammal. Theories suggesting a man-made origin of SARS-CoV-2 have been thoroughly discredited by multiple coronavirus experts.</b>"
          },
          "metadata": {}
        }
      ],
      "source": [
        "response = graph_query_engine.query(\n",
        "    'What is the origin of the COVID virus?'\n",
        "    #'What do we know about the Sars-cov-2 virus?',\n",
        "    #'Tell me about Sarbecoviruses',\n",
        ")\n",
        "display(Markdown(f\"<b>{response}</b>\"))"
      ]
    },
    {
      "cell_type": "markdown",
      "metadata": {
        "id": "1Rgg4JD1jowr"
      },
      "source": [
        "#### Digging into the Graph RAG Response"
      ]
    },
    {
      "cell_type": "markdown",
      "metadata": {
        "id": "f_M7Vx0qjowr"
      },
      "source": [
        "##### Examine the Response object"
      ]
    },
    {
      "cell_type": "code",
      "execution_count": null,
      "metadata": {
        "id": "lGdGYQhGjowr",
        "outputId": "daf9b4e4-6851-4238-d5e7-330dae0b06e2",
        "colab": {
          "base_uri": "https://localhost:8080/"
        }
      },
      "outputs": [
        {
          "output_type": "stream",
          "name": "stdout",
          "text": [
            "\n",
            " 19,21,22Many scientists have proposed aggressive\n",
            "monitoring of known hotspots to try to predict and prevent viral\n",
            "emergence that might impact human health, including early\n",
            "warning of host-switching events.19,20,27\n",
            "Unfortunately, outside of some members of the scienti ﬁc\n",
            "community, there has been little interest and no sense of\n",
            "urgency. In 2020, we learned, tragically, what 12 years of un-heeded warnings have led to: a bat-derived sarbecovirus —\n",
            "from the very same SARS-like bat virus group that had been\n",
            "warned about by multiple voices for over a decade —emerged\n",
            "and proceeded to cause the COVID-19 pandemic that nowsweeps the globe.\n",
            "SARS-CoV-2 emerged essentially as predicted: a natural\n",
            "event associated with either direct transmission of a batcoronavirus to humans or indirect transmission to humans via\n",
            "an intermediate host such as a Malaysian pangolin ( Manis\n",
            "javanica ) or another, yet-to-be-identi ﬁed mammal.\n",
            "28–31\n",
            "It should be clari ﬁed that theories about a hypothetical man-\n",
            "made origin of SARS-CoV-2 have been thoroughly discredited\n",
            "by multiple coronavirus experts.21,28,29SARS-CoV-2 contains\n",
            "neither the genetic ﬁngerprints of any of the reverse genetics\n",
            "systems that have been used to engineer coronaviruses nor\n",
            "does it contain genetic sequences that would have been\n",
            "“forward engineered ”from preexisting viruses, including the\n",
            "genetically closest sarbecoviruses. That is, SARS-CoV-2 is\n",
            "unlike any previously identi ﬁed coronavirus from which it\n",
            "could have been engineered. Moreover, the SARS-CoV-2ORIGIN OF COVID-19 957\n",
            "\n",
            " In 2007, scientists studying coronaviruses warned: “The\n",
            "presence of a large reservoir of SARS-CoV –like viruses in\n",
            "horseshoe bats ...is a time bomb. The possibility of the re-\n",
            "emergence of SARS and other novel viruses ...should not be\n",
            "ignored. ”\n",
            "1\n",
            "Few paid attention following the disappearance of SARS\n",
            "after the initial outbreak in 2002. Now, 18 years later, COVID-19\n",
            "has emerged as the deadliest respiratory disease pandemic\n",
            "since 1918, when the “Spanish ”inﬂuenza pandemic killed an\n",
            "estimated 50 million people.2We need to understand what\n",
            "happened so that we can prevent it from happening again, and\n",
            "be betterprepared to containsimilar pandemics attheir outsets.\n",
            "EMERGENCE OF THE COVID-19 PANDEMIC\n",
            "The agent of COVID-19, SARS-CoV-2, was named after the\n",
            "genetically related SARS-CoV (more recently distinguished\n",
            "by some as SARS-CoV-1), which caused a deadly near-\n",
            "pandemic in 2002 –2003.3Before 2019, neither SARS-CoV-2\n",
            "nor its genetic sequences had ever been identi ﬁed in viruses of\n",
            "humans or animals.\n",
            "Even so, scienti ﬁc research conducted over the last two\n",
            "decades provides clues about how and why the COVID-19\n",
            "pandemic appeared. We must understand these critically\n",
            "important scienti ﬁcﬁndings, described in the following text, so\n",
            "that we can better address signi ﬁcant existential risks we will\n",
            "continue to face for the foreseeable future.HOW VIRAL DISEASES EMERGE\n",
            "Viruses are compact nucleic acid packages of either DNA or\n",
            "(in the case of coronaviruses) RNA associated with proteins, and in\n",
            "some cases with lipids. Viruses are not living organisms and can\n",
            "only reproduce inside living cells susceptible to viral entry and withthe capacity to replicate viral nucleic acids and translate nucleicacid signals into amino acids to build viral proteins. Viruses are\n",
            "therefore nonliving self-contained genetic programs capable of\n",
            "redirecting a cell ’s machinery to produce more of themselves.\n",
            "\n",
            " Even so, scienti ﬁc research conducted over the last two\n",
            "decades provides clues about how and why the COVID-19\n",
            "pandemic appeared. We must understand these critically\n",
            "important scienti ﬁcﬁndings, described in the following text, so\n",
            "that we can better address signi ﬁcant existential risks we will\n",
            "continue to face for the foreseeable future.HOW VIRAL DISEASES EMERGE\n",
            "Viruses are compact nucleic acid packages of either DNA or\n",
            "(in the case of coronaviruses) RNA associated with proteins, and in\n",
            "some cases with lipids. Viruses are not living organisms and can\n",
            "only reproduce inside living cells susceptible to viral entry and withthe capacity to replicate viral nucleic acids and translate nucleicacid signals into amino acids to build viral proteins. Viruses are\n",
            "therefore nonliving self-contained genetic programs capable of\n",
            "redirecting a cell ’s machinery to produce more of themselves.\n",
            "It follows that when a virus enters a human cell for the ﬁrst time, it\n",
            "has very recently been transmitted from cells of some other host,\n",
            "that is, from another animal or, for example, an insect vector.Emergence of a pathogen between a vertebrate or an insect has\n",
            "been referred to as host-switching, sometimes described as a\n",
            "spillover event. Most of the human viral and nonviral infectiousdiseases that have existed for centuries —measles, in ﬂuenza,\n",
            "cholera, smallpox (eradicated in 1980), falciparum malaria,\n",
            "4\n",
            "dengue, HIV, and many others —originated by animal-to-human\n",
            "host-switching.5The complex genetic events that underlie host-\n",
            "switching differ greatly from pa thogen to pathogen, but general\n",
            "mechanisms have been recognized for many.6–9\n",
            "Host-switching determinants pr ominently include social, en-\n",
            "vironmental, and biological factor s providing the opportunity for\n",
            "host–species interaction; shared host cell receptors; genetic\n",
            "distance between transmitting and receiving hosts; and charac-teristics and complexity of the viral quasi-species or viral swarm.\n",
            "\n",
            " The following are knowledge sequence in max depth 3 in the form of directed graph like:\n",
            "`subject -[predicate]->, object, <-[predicate_next_hop]-, object_next_hop ...`\n",
            "('Theories', 'About', 'A hypothetical man-made origin of sars-cov-2')\n",
            "('Scientific research', 'Provides clues', 'How and why the covid-19 pandemic appeared')\n"
          ]
        }
      ],
      "source": [
        "#dir(response)\n",
        "#response.get_formatted_sources()\n",
        "# response.metadata\n",
        "# response.response\n",
        "\n",
        "# print('\\n', response.source_nodes[1].text)\n",
        "for source_node in response.source_nodes:\n",
        "    print('\\n', source_node.text)\n"
      ]
    },
    {
      "cell_type": "markdown",
      "metadata": {
        "id": "88s0TGhdeBzJ"
      },
      "source": [
        "##### Inspect Retrieval-Only Results"
      ]
    },
    {
      "cell_type": "code",
      "execution_count": null,
      "metadata": {
        "id": "UHCnfzKhisUG"
      },
      "outputs": [],
      "source": [
        "resp = graph_rag_retriever.retrieve(\n",
        "    #'What do we know about the Sars-cov-2 virus?',\n",
        "    #'Tell me about sarbecoviruses',\n",
        "    #'What do we know about Animal-to-human host-switching in Sars-cov-2?',\n",
        " )\n",
        "\n",
        "resp"
      ]
    },
    {
      "cell_type": "code",
      "execution_count": null,
      "metadata": {
        "id": "UFq2W2NRnKgr"
      },
      "outputs": [],
      "source": [
        "print(resp[0].text)"
      ]
    },
    {
      "cell_type": "markdown",
      "metadata": {
        "id": "H8tNfA4EEbGs"
      },
      "source": [
        "##### Prompt Inspection and Engineering"
      ]
    },
    {
      "cell_type": "code",
      "execution_count": null,
      "metadata": {
        "colab": {
          "base_uri": "https://localhost:8080/"
        },
        "id": "F06axQN5EwCg",
        "outputId": "31ba2d2e-24bc-4964-96e9-7563e8f216e3"
      },
      "outputs": [
        {
          "data": {
            "text/plain": [
              "['response_synthesizer:summary_template']"
            ]
          },
          "execution_count": 51,
          "metadata": {},
          "output_type": "execute_result"
        }
      ],
      "source": [
        "list(graph_query_engine.get_prompts().keys())"
      ]
    },
    {
      "cell_type": "code",
      "execution_count": null,
      "metadata": {
        "colab": {
          "base_uri": "https://localhost:8080/",
          "height": 238
        },
        "id": "JQ81YVmEFUEe",
        "outputId": "a1e44509-ffe6-4d42-db6a-807e379c938b"
      },
      "outputs": [
        {
          "data": {
            "text/markdown": [
              "**Prompt Key**: response_synthesizer:summary_template<br>**Text:** <br>"
            ],
            "text/plain": [
              "<IPython.core.display.Markdown object>"
            ]
          },
          "metadata": {},
          "output_type": "display_data"
        },
        {
          "name": "stdout",
          "output_type": "stream",
          "text": [
            "Context information from multiple sources is below.\n",
            "---------------------\n",
            "{context_str}\n",
            "---------------------\n",
            "Given the information from multiple sources and not prior knowledge, answer the query.\n",
            "Query: {query_str}\n",
            "Answer: \n"
          ]
        },
        {
          "data": {
            "text/markdown": [
              "<br><br>"
            ],
            "text/plain": [
              "<IPython.core.display.Markdown object>"
            ]
          },
          "metadata": {},
          "output_type": "display_data"
        }
      ],
      "source": [
        "display_prompt_dict(graph_query_engine.get_prompts())"
      ]
    },
    {
      "cell_type": "code",
      "execution_count": null,
      "metadata": {
        "colab": {
          "base_uri": "https://localhost:8080/"
        },
        "id": "f6jspTlhEZxJ",
        "outputId": "0fd8127e-f76f-4fe5-d62e-815e15232f8d"
      },
      "outputs": [
        {
          "name": "stdout",
          "output_type": "stream",
          "text": [
            "Context information from multiple sources is below.\n",
            "---------------------\n",
            "{context_str}\n",
            "---------------------\n",
            "Given the information from multiple sources and not prior knowledge, answer the query.\n",
            "Query: {query_str}\n",
            "Answer: \n"
          ]
        }
      ],
      "source": [
        "prompt_key = 'response_synthesizer:summary_template'\n",
        "\n",
        "print(graph_query_engine.get_prompts()[prompt_key].get_template())"
      ]
    },
    {
      "cell_type": "markdown",
      "metadata": {
        "id": "rlK0HpKN6fHw"
      },
      "source": [
        "## Plain RAG"
      ]
    },
    {
      "cell_type": "markdown",
      "metadata": {
        "id": "6fP9WP7Hjowt"
      },
      "source": [
        "### Setup and Load Vector Store"
      ]
    },
    {
      "cell_type": "code",
      "execution_count": null,
      "metadata": {
        "id": "owIcSwIi6jvY"
      },
      "outputs": [],
      "source": [
        "from llama_index.core import (\n",
        "    VectorStoreIndex,\n",
        "    SimpleDirectoryReader,\n",
        "    StorageContext,\n",
        ")\n",
        "\n",
        "\n",
        "# build basic RAG system\n",
        "vector_index = VectorStoreIndex.from_documents(documents=documents)\n",
        "vector_query_engine = vector_index.as_query_engine()\n"
      ]
    },
    {
      "cell_type": "markdown",
      "metadata": {
        "id": "txJHTE1Gjowu"
      },
      "source": [
        "### Build Retriever and Query Engine"
      ]
    },
    {
      "cell_type": "code",
      "execution_count": null,
      "metadata": {
        "id": "OwaeRFX57wZH"
      },
      "outputs": [],
      "source": [
        "from llama_index.core import get_response_synthesizer\n",
        "from llama_index.core.indices.vector_store.retrievers import VectorIndexRetriever\n",
        "from llama_index.core.query_engine.retriever_query_engine import (\n",
        "    RetrieverQueryEngine,\n",
        ")\n",
        "\n",
        "# build retriever\n",
        "vector_retriever = VectorIndexRetriever(\n",
        "    index=vector_index,\n",
        "    similarity_top_k=10,\n",
        "    vector_store_query_mode=\"default\",\n",
        "    alpha=None,\n",
        "    doc_ids=None,\n",
        ")\n",
        "\n",
        "# build query engine\n",
        "response_synthesizer=get_response_synthesizer(\n",
        "    response_mode='simple_summarize', # \"simple_summarize\" \"compact\", \"tree_summarize\",\n",
        ")\n",
        "\n",
        "vector_query_engine = RetrieverQueryEngine(\n",
        "    retriever=vector_retriever,\n",
        "    response_synthesizer=response_synthesizer\n",
        ")\n"
      ]
    },
    {
      "cell_type": "markdown",
      "metadata": {
        "id": "czNK5RUojowu"
      },
      "source": [
        "### Querying with Plain RAG"
      ]
    },
    {
      "cell_type": "code",
      "execution_count": null,
      "metadata": {
        "colab": {
          "base_uri": "https://localhost:8080/",
          "height": 98
        },
        "id": "v-jg1VOd7688",
        "outputId": "98057d43-bbb5-48c7-9b48-8a54ab319893"
      },
      "outputs": [
        {
          "output_type": "display_data",
          "data": {
            "text/plain": [
              "<IPython.core.display.Markdown object>"
            ],
            "text/markdown": "<b>The COVID-19 virus, also known as SARS-CoV-2, is believed to have originated from bats. It is a member of a large group of bat coronaviruses distributed globally. The virus is thought to have emerged naturally, either through direct transmission from bats to humans or indirectly via an intermediate host such as a Malaysian pangolin or another yet-to-be-identified mammal. Theories about a man-made origin of SARS-CoV-2 have been thoroughly discredited by multiple coronavirus experts.</b>"
          },
          "metadata": {}
        }
      ],
      "source": [
        "response = vector_query_engine.query(\n",
        "    'What is the origin of the COVID virus?'\n",
        "    #'What do we know about the Sars-cov-2 virus?',\n",
        "    #'Tell me about Sarbecoviruses',\n",
        ")\n",
        "\n",
        "display(Markdown(f\"<b>{response}</b>\"))"
      ]
    },
    {
      "cell_type": "markdown",
      "metadata": {
        "id": "oKrpFDRCjowu"
      },
      "source": [
        "#### Digging into the Plain RAG Response"
      ]
    },
    {
      "cell_type": "markdown",
      "metadata": {
        "id": "uqNfTiwJ-X4_"
      },
      "source": [
        "##### Inspect Retrieval Results"
      ]
    },
    {
      "cell_type": "code",
      "execution_count": null,
      "metadata": {
        "colab": {
          "base_uri": "https://localhost:8080/"
        },
        "id": "d44wD94ranwS",
        "outputId": "096ed6e2-3701-4ccf-a088-2a33ffd6f0b3"
      },
      "outputs": [
        {
          "data": {
            "text/plain": [
              "[NodeWithScore(node=TextNode(id_='fa22705c-1a41-4eee-a3ef-f79a735549ab', embedding=None, metadata={'page_label': '8', 'file_name': '2022 Q3 AAPL.pdf', 'file_path': '/content/docugami_finance_10Q_data/source_files/2022 Q3 AAPL.pdf', 'file_type': 'application/pdf', 'file_size': 266240, 'creation_date': '2024-03-22', 'last_modified_date': '2024-03-22'}, excluded_embed_metadata_keys=['file_name', 'file_type', 'file_size', 'creation_date', 'last_modified_date', 'last_accessed_date'], excluded_llm_metadata_keys=['file_name', 'file_type', 'file_size', 'creation_date', 'last_modified_date', 'last_accessed_date'], relationships={<NodeRelationship.SOURCE: '1'>: RelatedNodeInfo(node_id='47fddf51-b47d-4ba6-9af6-b747c063a2c6', node_type=<ObjectType.DOCUMENT: '4'>, metadata={'page_label': '8', 'file_name': '2022 Q3 AAPL.pdf', 'file_path': '/content/docugami_finance_10Q_data/source_files/2022 Q3 AAPL.pdf', 'file_type': 'application/pdf', 'file_size': 266240, 'creation_date': '2024-03-22', 'last_modified_date': '2024-03-22'}, hash='afd06446c107d8ec4a9e40119a05acbab899775e8cf8d50a28222e2d1389ae8c'), <NodeRelationship.PREVIOUS: '2'>: RelatedNodeInfo(node_id='5225315b-9b78-4969-8e85-6446bcbae4ba', node_type=<ObjectType.TEXT: '1'>, metadata={'page_label': '7', 'file_name': '2022 Q3 AAPL.pdf', 'file_path': '/content/docugami_finance_10Q_data/source_files/2022 Q3 AAPL.pdf', 'file_type': 'application/pdf', 'file_size': 266240, 'creation_date': '2024-03-22', 'last_modified_date': '2024-03-22'}, hash='cc1890e01634bb529dd14a9773b5134e3becbd63a427b57b2aaae6434eb8c6a3'), <NodeRelationship.NEXT: '3'>: RelatedNodeInfo(node_id='a0979cda-de37-4531-a9a7-ab21e4b081a7', node_type=<ObjectType.TEXT: '1'>, metadata={}, hash='a7aad93b63d35afe7e27edf9756cfa49ee6267a3eacecbbd5a2ffb61e721e77b')}, text='Apple Inc.\\nCONDENSED CONSOLIDA TED ST ATEMENTS OF CASH FLOWS (Unaudited)\\n(In millions)\\nNine Months Ended\\nJune 25,\\n2022June 26,\\n2021\\nCash, cash equivalents and restricted cash, beginning balances $ 35,929 $ 39,789 \\nOperating activities:\\nNet income 79,082 74,129 \\nAdjustments to reconcile net income to cash generated by operating activities:\\nDepreciation and amortization 8,239 8,295 \\nShare-based compensation expense 6,760 5,961 \\nDeferred income tax expense/(benefit) 2,756 (737)\\nOther (61) (689)\\nChanges in operating assets and liabilities:\\nAccounts receivable, net 4,561 (1,316)\\nInventories 1,049 (1,213)\\nVendor non-trade receivables 4,789 4,892 \\nOther current and non-current assets (3,289) (5,899)\\nAccounts payable (6,108) (1,786)\\nDeferred revenue 260 1,738 \\nOther current and non-current liabilities (14) 463 \\nCash generated by operating activities 98,024 83,838 \\nInvesting activities:\\nPurchases of marketable securities (70,178) (94,052)\\nProceeds from maturities of marketable securities 24,203 49,880 \\nProceeds from sales of marketable securities 33,609 36,745 \\nPayments for acquisition of property , plant and equipment (7,419) (7,862)\\nPayments made in connection with business acquisitions, net (169) (13)\\nOther (1,183) (78)\\nCash used in investing activities (21,137) (15,380)\\nFinancing activities:\\nPayments for taxes related to net share settlement of equity awards (5,915) (5,855)\\nPayments for dividends and dividend equivalents (11,138) (10,827)\\nRepurchases of common stock (64,974) (66,223)\\nProceeds from issuance of term debt, net — 13,923 \\nRepayments of term debt (6,750) (7,500)\\nProceeds from commercial paper , net 4,970 3,', start_char_idx=0, end_char_idx=1640, text_template='{metadata_str}\\n\\n{content}', metadata_template='{key}: {value}', metadata_seperator='\\n'), score=0.8857200405569615),\n",
              " NodeWithScore(node=TextNode(id_='a0979cda-de37-4531-a9a7-ab21e4b081a7', embedding=None, metadata={'page_label': '8', 'file_name': '2022 Q3 AAPL.pdf', 'file_path': '/content/docugami_finance_10Q_data/source_files/2022 Q3 AAPL.pdf', 'file_type': 'application/pdf', 'file_size': 266240, 'creation_date': '2024-03-22', 'last_modified_date': '2024-03-22'}, excluded_embed_metadata_keys=['file_name', 'file_type', 'file_size', 'creation_date', 'last_modified_date', 'last_accessed_date'], excluded_llm_metadata_keys=['file_name', 'file_type', 'file_size', 'creation_date', 'last_modified_date', 'last_accessed_date'], relationships={<NodeRelationship.SOURCE: '1'>: RelatedNodeInfo(node_id='47fddf51-b47d-4ba6-9af6-b747c063a2c6', node_type=<ObjectType.DOCUMENT: '4'>, metadata={'page_label': '8', 'file_name': '2022 Q3 AAPL.pdf', 'file_path': '/content/docugami_finance_10Q_data/source_files/2022 Q3 AAPL.pdf', 'file_type': 'application/pdf', 'file_size': 266240, 'creation_date': '2024-03-22', 'last_modified_date': '2024-03-22'}, hash='afd06446c107d8ec4a9e40119a05acbab899775e8cf8d50a28222e2d1389ae8c'), <NodeRelationship.PREVIOUS: '2'>: RelatedNodeInfo(node_id='fa22705c-1a41-4eee-a3ef-f79a735549ab', node_type=<ObjectType.TEXT: '1'>, metadata={'page_label': '8', 'file_name': '2022 Q3 AAPL.pdf', 'file_path': '/content/docugami_finance_10Q_data/source_files/2022 Q3 AAPL.pdf', 'file_type': 'application/pdf', 'file_size': 266240, 'creation_date': '2024-03-22', 'last_modified_date': '2024-03-22'}, hash='0899a5d25c86a8f73d037f3815a3a0e81383aa6c67d5a8c1d0ddf78981ebea6d'), <NodeRelationship.NEXT: '3'>: RelatedNodeInfo(node_id='95b592c0-11fa-4cef-b522-3b347558fce3', node_type=<ObjectType.TEXT: '1'>, metadata={}, hash='92cd1f238f3c6bbd5d04377f883167a1c3d0e4d72e4d79f127bb270cccaaf0a5')}, text='052)\\nProceeds from maturities of marketable securities 24,203 49,880 \\nProceeds from sales of marketable securities 33,609 36,745 \\nPayments for acquisition of property , plant and equipment (7,419) (7,862)\\nPayments made in connection with business acquisitions, net (169) (13)\\nOther (1,183) (78)\\nCash used in investing activities (21,137) (15,380)\\nFinancing activities:\\nPayments for taxes related to net share settlement of equity awards (5,915) (5,855)\\nPayments for dividends and dividend equivalents (11,138) (10,827)\\nRepurchases of common stock (64,974) (66,223)\\nProceeds from issuance of term debt, net — 13,923 \\nRepayments of term debt (6,750) (7,500)\\nProceeds from commercial paper , net 4,970 3,022 \\nOther (148) 489 \\nCash used in financing activities (83,955) (72,971)\\nDecrease in cash, cash equivalents and restricted cash (7,068) (4,513)\\nCash, cash equivalents and restricted cash, ending balances $ 28,861 $ 35,276 \\nSupplemental cash flow disclosure:\\nCash paid for income taxes, net $ 12,251 $ 18,536 \\nCash paid for interest $ 1,910 $ 1,870 \\nSee accompanying Notes to Condensed Consolidated Financial Statements.\\nApple Inc. | Q3 2022 Form 10-Q | 5', start_char_idx=939, end_char_idx=2095, text_template='{metadata_str}\\n\\n{content}', metadata_template='{key}: {value}', metadata_seperator='\\n'), score=0.8834652657206901),\n",
              " NodeWithScore(node=TextNode(id_='9fc9251d-d732-433a-81f9-5c4bd912fdc8', embedding=None, metadata={'page_label': '10', 'file_name': '2022 Q3 AAPL.pdf', 'file_path': '/content/docugami_finance_10Q_data/source_files/2022 Q3 AAPL.pdf', 'file_type': 'application/pdf', 'file_size': 266240, 'creation_date': '2024-03-22', 'last_modified_date': '2024-03-22'}, excluded_embed_metadata_keys=['file_name', 'file_type', 'file_size', 'creation_date', 'last_modified_date', 'last_accessed_date'], excluded_llm_metadata_keys=['file_name', 'file_type', 'file_size', 'creation_date', 'last_modified_date', 'last_accessed_date'], relationships={<NodeRelationship.SOURCE: '1'>: RelatedNodeInfo(node_id='c92f422b-9efa-46c1-a9eb-52948e39ae9b', node_type=<ObjectType.DOCUMENT: '4'>, metadata={'page_label': '10', 'file_name': '2022 Q3 AAPL.pdf', 'file_path': '/content/docugami_finance_10Q_data/source_files/2022 Q3 AAPL.pdf', 'file_type': 'application/pdf', 'file_size': 266240, 'creation_date': '2024-03-22', 'last_modified_date': '2024-03-22'}, hash='53bf8811a016345440b0e69ce2f453829670e36ea45088f5c638149b78d98e41'), <NodeRelationship.PREVIOUS: '2'>: RelatedNodeInfo(node_id='2a50ad19-1a8d-4219-ad43-627b24f2be74', node_type=<ObjectType.TEXT: '1'>, metadata={'page_label': '9', 'file_name': '2022 Q3 AAPL.pdf', 'file_path': '/content/docugami_finance_10Q_data/source_files/2022 Q3 AAPL.pdf', 'file_type': 'application/pdf', 'file_size': 266240, 'creation_date': '2024-03-22', 'last_modified_date': '2024-03-22'}, hash='f9c554271856f3064787bcc753aeb0a7973fd6c95044fb295555cd2618e23458'), <NodeRelationship.NEXT: '3'>: RelatedNodeInfo(node_id='a6d5448d-5962-4048-8e08-09c187a59d3a', node_type=<ObjectType.TEXT: '1'>, metadata={}, hash='dcb36a830252b2362ca816e23467ea2a9f29cc20d3797704fa5b19dff95fecbb')}, text='Note 2 – Revenue\\nNet sales disaggregated  by significant products and services for the three- and nine-month periods ended June 25, 2022 and June 26, 2021 were as follows (in\\nmillions):\\nThree Months Ended Nine Months Ended\\nJune 25,\\n2022June 26,\\n2021June 25,\\n2022June 26,\\n2021\\niPhone $ 40,665 $ 39,570 $ 162,863 $ 153,105 \\nMac  7,382 8,235 28,669 26,012 \\niPad 7,224 7,368 22,118 23,610 \\nWearables, Home and Accessories 8,084 8,775 31,591 29,582 \\nServices 19,604 17,486 58,941 50,148 \\nTotal net sales $ 82,959 $ 81,434 $ 304,182 $ 282,457 \\n(1)Products net sales include amortization of the deferred value of unspecified software upgrade rights, which are bundled in the sales price of the respective\\nproduct.\\n(2)Wearables, Home and Accessories net sales include sales of AirPods, Apple TV, Apple Watch, Beats products, HomePod mini and accessories.\\n(3)Services net sales include sales from the Company’s advertising, AppleCare, cloud, digital content, payment and other services. Services net sales also include\\namortization of the deferred value of services bundled in the sales price of certain products.\\n(4)Includes $3.1 billion of revenue recognized in the three months ended June 25, 2022 that was included in deferred revenue as of March 26, 2022, $3.0 billion of\\nrevenue recognized in the three months ended June 26, 2021 that was included in deferred revenue as of March 27, 2021, $6.3 billion of revenue recognized in\\nthe nine months ended June 25, 2022 that was included in deferred revenue as of September 25, 2021, and $5.5 billion of revenue recognized in the nine\\nmonths ended June 26, 2021 that was included in deferred revenue as of September 26, 2020.', start_char_idx=0, end_char_idx=1666, text_template='{metadata_str}\\n\\n{content}', metadata_template='{key}: {value}', metadata_seperator='\\n'), score=0.8745379889608429)]"
            ]
          },
          "execution_count": 93,
          "metadata": {},
          "output_type": "execute_result"
        }
      ],
      "source": [
        "resp = vector_retriever.retrieve(\n",
        "    'What did Apple report as its net cash from operating activities in the Q3 2022 10-Q?'\n",
        ")\n",
        "\n",
        "resp"
      ]
    },
    {
      "cell_type": "code",
      "execution_count": null,
      "metadata": {
        "colab": {
          "base_uri": "https://localhost:8080/"
        },
        "id": "irr9r0-Ra8c9",
        "outputId": "b50f1916-2113-45e5-df8d-e396f348052f"
      },
      "outputs": [
        {
          "data": {
            "text/plain": [
              "3"
            ]
          },
          "execution_count": 94,
          "metadata": {},
          "output_type": "execute_result"
        }
      ],
      "source": [
        "len(resp)"
      ]
    },
    {
      "cell_type": "code",
      "execution_count": null,
      "metadata": {
        "id": "M1bMgNbnb-26"
      },
      "outputs": [],
      "source": [
        "# dir(resp[0])"
      ]
    },
    {
      "cell_type": "code",
      "execution_count": null,
      "metadata": {
        "id": "z5gbSUeXa-nY"
      },
      "outputs": [],
      "source": [
        "print(resp[0].to_dict()['node']['text'])"
      ]
    },
    {
      "cell_type": "markdown",
      "metadata": {
        "id": "DJ3YNrjqF3-J"
      },
      "source": [
        "##### Prompt Inspection and Engineering"
      ]
    },
    {
      "cell_type": "code",
      "execution_count": null,
      "metadata": {
        "colab": {
          "base_uri": "https://localhost:8080/",
          "height": 472
        },
        "id": "fRlLtzhIF3A5",
        "outputId": "1ca79fff-aa19-4e9f-e4af-957a3314c896"
      },
      "outputs": [
        {
          "data": {
            "text/markdown": [
              "**Prompt Key**: response_synthesizer:text_qa_template<br>**Text:** <br>"
            ],
            "text/plain": [
              "<IPython.core.display.Markdown object>"
            ]
          },
          "metadata": {},
          "output_type": "display_data"
        },
        {
          "name": "stdout",
          "output_type": "stream",
          "text": [
            "Context information is below.\n",
            "---------------------\n",
            "{context_str}\n",
            "---------------------\n",
            "Given the context information and not prior knowledge, answer the query.\n",
            "Query: {query_str}\n",
            "Answer: \n"
          ]
        },
        {
          "data": {
            "text/markdown": [
              "<br><br>"
            ],
            "text/plain": [
              "<IPython.core.display.Markdown object>"
            ]
          },
          "metadata": {},
          "output_type": "display_data"
        },
        {
          "data": {
            "text/markdown": [
              "**Prompt Key**: response_synthesizer:refine_template<br>**Text:** <br>"
            ],
            "text/plain": [
              "<IPython.core.display.Markdown object>"
            ]
          },
          "metadata": {},
          "output_type": "display_data"
        },
        {
          "name": "stdout",
          "output_type": "stream",
          "text": [
            "The original query is as follows: {query_str}\n",
            "We have provided an existing answer: {existing_answer}\n",
            "We have the opportunity to refine the existing answer (only if needed) with some more context below.\n",
            "------------\n",
            "{context_msg}\n",
            "------------\n",
            "Given the new context, refine the original answer to better answer the query. If the context isn't useful, return the original answer.\n",
            "Refined Answer: \n"
          ]
        },
        {
          "data": {
            "text/markdown": [
              "<br><br>"
            ],
            "text/plain": [
              "<IPython.core.display.Markdown object>"
            ]
          },
          "metadata": {},
          "output_type": "display_data"
        }
      ],
      "source": [
        "display_prompt_dict(vector_query_engine.get_prompts())"
      ]
    },
    {
      "cell_type": "markdown",
      "metadata": {
        "id": "xnarsx5fA6aS"
      },
      "source": [
        "## Comparing Graph RAG to Plain RAG"
      ]
    },
    {
      "cell_type": "code",
      "execution_count": null,
      "metadata": {
        "id": "eV5um9xrjoww",
        "outputId": "b8ebf1ec-dfc2-49e7-ac2b-34ffef20649d"
      },
      "outputs": [
        {
          "name": "stdout",
          "output_type": "stream",
          "text": [
            "Query:\n",
            " What is the origin of the COVID virus?\n"
          ]
        }
      ],
      "source": [
        "rag_query = [\n",
        "    'What is the origin of the COVID virus?'    # graph RAG better\n",
        "\n",
        "    # -- both plain RAG and graph RAG do well for many queries\n",
        "    #'What do we know about the Sars-cov-2 virus?',\n",
        "    #'Tell me about Sarbecoviruses',\n",
        "    #'What do we know about Animal-to-human host-switching in Sars-cov-2?',\n",
        "    #'Which national institutes and committees were mentioned in the text?'\n",
        "\n",
        "    # -- plain RAG does better for some queries with one concise topic\n",
        "    #'What is the connection between bats and pangolins in COVID research?'\n",
        "    #'Which universities were involved in Sars-cov-2 research?'\n",
        "    #'Who is Jeffery Taubenberger?'\n",
        "\n",
        "    #'Tell me about some members of the Department of medicine.'\n",
        "    #'How are Beatrice h. hahn and Gerald t. keusch related to each other?'\n",
        "\n",
        "    # -- graph RAG does better with connecting loosely related topics\n",
        "    #'Who are some authors named in this text?'\n",
        "    #'How are Beatrice Hahn and Gerald Keusch related to each other?'  # graph RAG better\n",
        "    #'How are David Morens and Joel Breman related to each other?'  # plain RAG slightly better\n",
        "    #'How are Joel Breman and Charles Calisher related?'  # graph RAG better\n",
        "\n",
        "    # -- MISC\n",
        "    #'Which of these people worked together: David M. Morens, Joel G. Breman, Charles H. Calisher, Peter C. Doherty, Beatrice H. Hahn, Gerald T. Keusch, Laura D. Kramer, James W. LeDuc, Thomas P. Monath, and Jeffery K. Taubenberger?'\n",
        "    #'Which university Departments of Medicine are mentioned in the text?'\n",
        "    #'Tell me about some members of university departments of medicine.'\n",
        "\n",
        "][0]\n",
        "\n",
        "print('Query:\\n', rag_query)\n"
      ]
    },
    {
      "cell_type": "markdown",
      "metadata": {
        "id": "aVBMs3yqjoww"
      },
      "source": [
        "### Graph RAG"
      ]
    },
    {
      "cell_type": "code",
      "execution_count": null,
      "metadata": {
        "colab": {
          "base_uri": "https://localhost:8080/",
          "height": 46
        },
        "id": "xKjlnMBuBIMR",
        "outputId": "492dccda-bf61-465f-cab4-594ad13cdb71"
      },
      "outputs": [
        {
          "name": "stdout",
          "output_type": "stream",
          "text": [
            "INFO:httpx:HTTP Request: POST https://api.openai.com/v1/chat/completions \"HTTP/1.1 200 OK\"\n",
            "\u001b[1;3;32mExtracted keywords: ['origin', 'COVID virus', 'COVID', 'virus']\n",
            "\u001b[0mINFO:httpx:HTTP Request: POST https://api.openai.com/v1/embeddings \"HTTP/1.1 200 OK\"\n",
            "INFO:llama_index.core.indices.knowledge_graph.retrievers:> Querying with idx: b00174e4-fdaf-40ba-a6ee-e82831c3a0dc: 19,21,22Many scientists have proposed aggressive\n",
            "monitoring of known hotspots...\n",
            "INFO:llama_index.core.indices.knowledge_graph.retrievers:> Querying with idx: 53d92ea5-e66c-4c7e-a8a6-f33b3cfb3072: In 2007, scientists studying coronaviruses warned: “The\n",
            "presence of a large r...\n",
            "INFO:llama_index.core.indices.knowledge_graph.retrievers:> Querying with idx: 4d3fdf07-5df7-424b-87dd-401d47531df6: Even so, scienti ﬁc research conducted over the last two\n",
            "decades provides clu...\n",
            "\u001b[1;3;34mKG context:\n",
            "The following are knowledge sequence in max depth 3 in the form of directed graph like:\n",
            "`subject -[predicate]->, object, <-[predicate_next_hop]-, object_next_hop ...`\n",
            "('Theories', 'About', 'A hypothetical man-made origin of sars-cov-2')\n",
            "('Scientific research', 'Provides clues', 'About how and why the covid-19 pandemic appeared')\n",
            "\u001b[0mINFO:httpx:HTTP Request: POST https://api.openai.com/v1/chat/completions \"HTTP/1.1 200 OK\"\n"
          ]
        },
        {
          "data": {
            "text/markdown": [
              "<b>The COVID-19 virus, also known as SARS-CoV-2, is believed to have originated from bats, specifically from a group of SARS-like bat viruses. It is thought to have been transmitted to humans either directly or indirectly through an intermediate host such as a Malaysian pangolin or another yet-to-be-identified mammal. Theories suggesting a man-made origin of SARS-CoV-2 have been thoroughly discredited by multiple coronavirus experts.</b>"
            ],
            "text/plain": [
              "<IPython.core.display.Markdown object>"
            ]
          },
          "metadata": {},
          "output_type": "display_data"
        }
      ],
      "source": [
        "# graph RAG\n",
        "response = graph_query_engine.query(rag_query)\n",
        "\n",
        "display(Markdown(f\"<b>{response}</b>\"))"
      ]
    },
    {
      "cell_type": "markdown",
      "metadata": {
        "id": "Ta_fZEJZjoww"
      },
      "source": [
        "### Plain RAG"
      ]
    },
    {
      "cell_type": "code",
      "execution_count": null,
      "metadata": {
        "colab": {
          "base_uri": "https://localhost:8080/",
          "height": 46
        },
        "id": "fWpaRMu9A-2y",
        "outputId": "152334f2-b261-45b2-d68d-b51f93ea70ac"
      },
      "outputs": [
        {
          "name": "stdout",
          "output_type": "stream",
          "text": [
            "INFO:httpx:HTTP Request: POST https://api.openai.com/v1/embeddings \"HTTP/1.1 200 OK\"\n",
            "INFO:httpx:HTTP Request: POST https://api.openai.com/v1/chat/completions \"HTTP/1.1 200 OK\"\n"
          ]
        },
        {
          "data": {
            "text/markdown": [
              "<b>The COVID-19 virus, also known as SARS-CoV-2, evolved directly or indirectly from a β-coronavirus in the sarbecovirus (SARS-like virus) group that naturally infects bats and pangolins in Asia and Southeast Asia. The specific mechanism of its emergence in humans remains unknown.</b>"
            ],
            "text/plain": [
              "<IPython.core.display.Markdown object>"
            ]
          },
          "metadata": {},
          "output_type": "display_data"
        }
      ],
      "source": [
        "# plain RAG\n",
        "response = vector_query_engine.query(rag_query)\n",
        "\n",
        "display(Markdown(f\"<b>{response}</b>\"))"
      ]
    }
  ],
  "metadata": {
    "colab": {
      "provenance": [],
      "include_colab_link": true
    },
    "kernelspec": {
      "display_name": "Python 3 (ipykernel)",
      "language": "python",
      "name": "python3"
    },
    "language_info": {
      "codemirror_mode": {
        "name": "ipython",
        "version": 3
      },
      "file_extension": ".py",
      "mimetype": "text/x-python",
      "name": "python",
      "nbconvert_exporter": "python",
      "pygments_lexer": "ipython3",
      "version": "3.10.12"
    }
  },
  "nbformat": 4,
  "nbformat_minor": 0
}